{
 "cells": [
  {
   "cell_type": "markdown",
   "metadata": {},
   "source": [
    "# Проверка гипотез по увеличению выручки в интернет-магазине — оценка результатов A/B теста\n",
    "_____\n",
    "#### Описание проекта\n",
    "\n",
    "Отделом маркетинга крупного интернет-магазина подготовлен список гипотез для увеличения выручки. Необходимо приоритизировать гипотезы, запустить A/B-тест и проанализировать результаты.\n",
    "_____\n",
    "#### Цель проекта\n",
    "\n",
    "Проект преследует две цели:\n",
    "* Приоритезировать гипотезы подготовленные отделом маркетинга для увеличения выручки крупного интернет-магазина;\n",
    "* Запустить A/B тест и проанализировать полученные результаты.\n",
    "______\n",
    "#### В этом исследовании представлены следующие данные:\n",
    "\n",
    "* описание гипотез;\n",
    "* заказы;\n",
    "* посещения.\n",
    "______\n",
    "\n",
    "#### Данное исследование разделим на несколько частей.\n",
    "\n",
    "##### Часть 1. Загрузка данных и проверка их на ошибки:\n",
    "* [1.1. Импорт библиотек, сохранение данных в переменные.](#section_1_1)\n",
    "* [1.2. Изучение общей информации, нахождение проблем в данных и их исправление.](#section_1_2)\n",
    "\n",
    "##### Часть 2. Приоритизация гипотез:\n",
    "* [2.1. Фреймворк ICE.](#section_2_1)\n",
    "* [2.2. Фреймворк RICE.](#section_2_2)\n",
    "\n",
    "##### Часть 3. Анализ A/B-теста:\n",
    "* [3.1. Построение кумулятивных графиков выручки, среднего чека и его относительного изменения, конверсии и ее относительного изменения.](#section_3_1)\n",
    "* [3.2. Построение точечных графиков количества заказов по пользователям и стоимостей заказов, анализ выбросов.](#section_3_2)\n",
    "* [3.3. Результаты теста.](#section_3_3)\n",
    "\n",
    "##### Часть 4. Общие выводы\n",
    "* [Общие выводы.](#section_4_1)"
   ]
  },
  {
   "cell_type": "markdown",
   "metadata": {},
   "source": [
    "## Часть 1. Загрузка данных и проверка их на ошибки"
   ]
  },
  {
   "cell_type": "markdown",
   "metadata": {},
   "source": [
    "<a id='section_1_1'></a>"
   ]
  },
  {
   "cell_type": "markdown",
   "metadata": {},
   "source": [
    "### 1.1. Импорт библиотек, сохранение данных в переменные."
   ]
  },
  {
   "cell_type": "markdown",
   "metadata": {},
   "source": [
    "Импортируем необходимые для исследования библиотеки."
   ]
  },
  {
   "cell_type": "code",
   "execution_count": 1,
   "metadata": {},
   "outputs": [],
   "source": [
    "import pandas as pd\n",
    "import seaborn as sns\n",
    "import matplotlib.pyplot as plt\n",
    "import numpy as np\n",
    "import datetime as dt\n",
    "import warnings\n",
    "from datetime import datetime\n",
    "import scipy.stats as stats\n",
    "warnings.filterwarnings('ignore')\n"
   ]
  },
  {
   "cell_type": "markdown",
   "metadata": {},
   "source": [
    "Сохраним имеющиеся данные в переменные."
   ]
  },
  {
   "cell_type": "code",
   "execution_count": 2,
   "metadata": {},
   "outputs": [],
   "source": [
    "try:\n",
    "    hypothesis = pd.read_csv('hypothesis.csv') # данные о гипотезах\n",
    "except:\n",
    "    hypothesis = pd.read_csv('hypothesis.csv')\n",
    "    \n",
    "try:\n",
    "    orders = pd.read_csv('orders.csv') # данные о заказах\n",
    "except:\n",
    "    orders = pd.read_csv('orders.csv')\n",
    "    \n",
    "try:\n",
    "    visitors = pd.read_csv('visitors.csv') # данные о визитах\n",
    "except:\n",
    "    visitors = pd.read_csv('visitors.csv')    \n"
   ]
  },
  {
   "cell_type": "markdown",
   "metadata": {},
   "source": [
    "<a id='section_1_2'></a>"
   ]
  },
  {
   "cell_type": "markdown",
   "metadata": {},
   "source": [
    "### 1.2. Изучение общей информации, нахождение проблем в данных и их исправление."
   ]
  },
  {
   "cell_type": "markdown",
   "metadata": {},
   "source": [
    "Подробно изучим общую информацию каждого из трёх датасетов."
   ]
  },
  {
   "cell_type": "markdown",
   "metadata": {},
   "source": [
    "##### Изучение общей информации hypothesis"
   ]
  },
  {
   "cell_type": "code",
   "execution_count": 3,
   "metadata": {},
   "outputs": [
    {
     "data": {
      "text/html": [
       "<div>\n",
       "<style scoped>\n",
       "    .dataframe tbody tr th:only-of-type {\n",
       "        vertical-align: middle;\n",
       "    }\n",
       "\n",
       "    .dataframe tbody tr th {\n",
       "        vertical-align: top;\n",
       "    }\n",
       "\n",
       "    .dataframe thead th {\n",
       "        text-align: right;\n",
       "    }\n",
       "</style>\n",
       "<table border=\"1\" class=\"dataframe\">\n",
       "  <thead>\n",
       "    <tr style=\"text-align: right;\">\n",
       "      <th></th>\n",
       "      <th>Hypothesis</th>\n",
       "      <th>Reach</th>\n",
       "      <th>Impact</th>\n",
       "      <th>Confidence</th>\n",
       "      <th>Efforts</th>\n",
       "    </tr>\n",
       "  </thead>\n",
       "  <tbody>\n",
       "    <tr>\n",
       "      <th>0</th>\n",
       "      <td>Добавить два новых канала привлечения трафика,...</td>\n",
       "      <td>3</td>\n",
       "      <td>10</td>\n",
       "      <td>8</td>\n",
       "      <td>6</td>\n",
       "    </tr>\n",
       "    <tr>\n",
       "      <th>1</th>\n",
       "      <td>Запустить собственную службу доставки, что сок...</td>\n",
       "      <td>2</td>\n",
       "      <td>5</td>\n",
       "      <td>4</td>\n",
       "      <td>10</td>\n",
       "    </tr>\n",
       "    <tr>\n",
       "      <th>2</th>\n",
       "      <td>Добавить блоки рекомендаций товаров на сайт ин...</td>\n",
       "      <td>8</td>\n",
       "      <td>3</td>\n",
       "      <td>7</td>\n",
       "      <td>3</td>\n",
       "    </tr>\n",
       "    <tr>\n",
       "      <th>3</th>\n",
       "      <td>Изменить структура категорий, что увеличит кон...</td>\n",
       "      <td>8</td>\n",
       "      <td>3</td>\n",
       "      <td>3</td>\n",
       "      <td>8</td>\n",
       "    </tr>\n",
       "    <tr>\n",
       "      <th>4</th>\n",
       "      <td>Изменить цвет фона главной страницы, чтобы уве...</td>\n",
       "      <td>3</td>\n",
       "      <td>1</td>\n",
       "      <td>1</td>\n",
       "      <td>1</td>\n",
       "    </tr>\n",
       "    <tr>\n",
       "      <th>5</th>\n",
       "      <td>Добавить страницу отзывов клиентов о магазине,...</td>\n",
       "      <td>3</td>\n",
       "      <td>2</td>\n",
       "      <td>2</td>\n",
       "      <td>3</td>\n",
       "    </tr>\n",
       "    <tr>\n",
       "      <th>6</th>\n",
       "      <td>Показать на главной странице баннеры с актуаль...</td>\n",
       "      <td>5</td>\n",
       "      <td>3</td>\n",
       "      <td>8</td>\n",
       "      <td>3</td>\n",
       "    </tr>\n",
       "    <tr>\n",
       "      <th>7</th>\n",
       "      <td>Добавить форму подписки на все основные страни...</td>\n",
       "      <td>10</td>\n",
       "      <td>7</td>\n",
       "      <td>8</td>\n",
       "      <td>5</td>\n",
       "    </tr>\n",
       "    <tr>\n",
       "      <th>8</th>\n",
       "      <td>Запустить акцию, дающую скидку на товар в день...</td>\n",
       "      <td>1</td>\n",
       "      <td>9</td>\n",
       "      <td>9</td>\n",
       "      <td>5</td>\n",
       "    </tr>\n",
       "  </tbody>\n",
       "</table>\n",
       "</div>"
      ],
      "text/plain": [
       "                                          Hypothesis  Reach  Impact  \\\n",
       "0  Добавить два новых канала привлечения трафика,...      3      10   \n",
       "1  Запустить собственную службу доставки, что сок...      2       5   \n",
       "2  Добавить блоки рекомендаций товаров на сайт ин...      8       3   \n",
       "3  Изменить структура категорий, что увеличит кон...      8       3   \n",
       "4  Изменить цвет фона главной страницы, чтобы уве...      3       1   \n",
       "5  Добавить страницу отзывов клиентов о магазине,...      3       2   \n",
       "6  Показать на главной странице баннеры с актуаль...      5       3   \n",
       "7  Добавить форму подписки на все основные страни...     10       7   \n",
       "8  Запустить акцию, дающую скидку на товар в день...      1       9   \n",
       "\n",
       "   Confidence  Efforts  \n",
       "0           8        6  \n",
       "1           4       10  \n",
       "2           7        3  \n",
       "3           3        8  \n",
       "4           1        1  \n",
       "5           2        3  \n",
       "6           8        3  \n",
       "7           8        5  \n",
       "8           9        5  "
      ]
     },
     "execution_count": 3,
     "metadata": {},
     "output_type": "execute_result"
    }
   ],
   "source": [
    "hypothesis.head(10)"
   ]
  },
  {
   "cell_type": "markdown",
   "metadata": {},
   "source": [
    "Таблица `hypothesis` представляет собой набор гипотез, которые оценены по критерям `Reach`, `Impact`, `Confidence` и `Efforts` по десятибальной шкале от 0 до 10. Эти данные нам нужны для приоритезации гипотез по фреймворкам ICE и RICE, которая будет проведена [во второй части исследования](#section_2_1).\n",
    "Изучим общую информацию этой таблицы."
   ]
  },
  {
   "cell_type": "code",
   "execution_count": 4,
   "metadata": {},
   "outputs": [
    {
     "name": "stdout",
     "output_type": "stream",
     "text": [
      "<class 'pandas.core.frame.DataFrame'>\n",
      "RangeIndex: 9 entries, 0 to 8\n",
      "Data columns (total 5 columns):\n",
      " #   Column      Non-Null Count  Dtype \n",
      "---  ------      --------------  ----- \n",
      " 0   Hypothesis  9 non-null      object\n",
      " 1   Reach       9 non-null      int64 \n",
      " 2   Impact      9 non-null      int64 \n",
      " 3   Confidence  9 non-null      int64 \n",
      " 4   Efforts     9 non-null      int64 \n",
      "dtypes: int64(4), object(1)\n",
      "memory usage: 488.0+ bytes\n"
     ]
    }
   ],
   "source": [
    "hypothesis.info()"
   ]
  },
  {
   "cell_type": "markdown",
   "metadata": {},
   "source": [
    "Применив метод `info()` выяснили, что проблем в данных нет."
   ]
  },
  {
   "cell_type": "markdown",
   "metadata": {},
   "source": [
    "##### Изучение общей информации orders"
   ]
  },
  {
   "cell_type": "code",
   "execution_count": 5,
   "metadata": {},
   "outputs": [
    {
     "data": {
      "text/html": [
       "<div>\n",
       "<style scoped>\n",
       "    .dataframe tbody tr th:only-of-type {\n",
       "        vertical-align: middle;\n",
       "    }\n",
       "\n",
       "    .dataframe tbody tr th {\n",
       "        vertical-align: top;\n",
       "    }\n",
       "\n",
       "    .dataframe thead th {\n",
       "        text-align: right;\n",
       "    }\n",
       "</style>\n",
       "<table border=\"1\" class=\"dataframe\">\n",
       "  <thead>\n",
       "    <tr style=\"text-align: right;\">\n",
       "      <th></th>\n",
       "      <th>transactionId</th>\n",
       "      <th>visitorId</th>\n",
       "      <th>date</th>\n",
       "      <th>revenue</th>\n",
       "      <th>group</th>\n",
       "    </tr>\n",
       "  </thead>\n",
       "  <tbody>\n",
       "    <tr>\n",
       "      <th>0</th>\n",
       "      <td>3667963787</td>\n",
       "      <td>3312258926</td>\n",
       "      <td>2019-08-15</td>\n",
       "      <td>1650</td>\n",
       "      <td>B</td>\n",
       "    </tr>\n",
       "    <tr>\n",
       "      <th>1</th>\n",
       "      <td>2804400009</td>\n",
       "      <td>3642806036</td>\n",
       "      <td>2019-08-15</td>\n",
       "      <td>730</td>\n",
       "      <td>B</td>\n",
       "    </tr>\n",
       "    <tr>\n",
       "      <th>2</th>\n",
       "      <td>2961555356</td>\n",
       "      <td>4069496402</td>\n",
       "      <td>2019-08-15</td>\n",
       "      <td>400</td>\n",
       "      <td>A</td>\n",
       "    </tr>\n",
       "    <tr>\n",
       "      <th>3</th>\n",
       "      <td>3797467345</td>\n",
       "      <td>1196621759</td>\n",
       "      <td>2019-08-15</td>\n",
       "      <td>9759</td>\n",
       "      <td>B</td>\n",
       "    </tr>\n",
       "    <tr>\n",
       "      <th>4</th>\n",
       "      <td>2282983706</td>\n",
       "      <td>2322279887</td>\n",
       "      <td>2019-08-15</td>\n",
       "      <td>2308</td>\n",
       "      <td>B</td>\n",
       "    </tr>\n",
       "  </tbody>\n",
       "</table>\n",
       "</div>"
      ],
      "text/plain": [
       "   transactionId   visitorId        date  revenue group\n",
       "0     3667963787  3312258926  2019-08-15     1650     B\n",
       "1     2804400009  3642806036  2019-08-15      730     B\n",
       "2     2961555356  4069496402  2019-08-15      400     A\n",
       "3     3797467345  1196621759  2019-08-15     9759     B\n",
       "4     2282983706  2322279887  2019-08-15     2308     B"
      ]
     },
     "execution_count": 5,
     "metadata": {},
     "output_type": "execute_result"
    }
   ],
   "source": [
    "orders.head()"
   ]
  },
  {
   "cell_type": "markdown",
   "metadata": {},
   "source": [
    "Таблица `orders` содержит данные о заказах, наблюдаемых в период A/B-теста. Данные этого датафрейма будут проанализированы [в третьей части исследования](#section_3_1).\n",
    "Изучим общую информацию этой таблицы."
   ]
  },
  {
   "cell_type": "code",
   "execution_count": 6,
   "metadata": {},
   "outputs": [
    {
     "name": "stdout",
     "output_type": "stream",
     "text": [
      "<class 'pandas.core.frame.DataFrame'>\n",
      "RangeIndex: 1197 entries, 0 to 1196\n",
      "Data columns (total 5 columns):\n",
      " #   Column         Non-Null Count  Dtype \n",
      "---  ------         --------------  ----- \n",
      " 0   transactionId  1197 non-null   int64 \n",
      " 1   visitorId      1197 non-null   int64 \n",
      " 2   date           1197 non-null   object\n",
      " 3   revenue        1197 non-null   int64 \n",
      " 4   group          1197 non-null   object\n",
      "dtypes: int64(3), object(2)\n",
      "memory usage: 46.9+ KB\n"
     ]
    }
   ],
   "source": [
    "orders.info()"
   ]
  },
  {
   "cell_type": "markdown",
   "metadata": {},
   "source": [
    "В результате применения метода `info()` была определена необходимость изменения тип данных столбца `date` на datetime. Произведем замену типа данных методом `map` и функцией `lambda`."
   ]
  },
  {
   "cell_type": "code",
   "execution_count": 7,
   "metadata": {},
   "outputs": [],
   "source": [
    "orders['date'] = orders['date'].map(lambda x: dt.datetime.strptime(x, '%Y-%m-%d'))\n"
   ]
  },
  {
   "cell_type": "markdown",
   "metadata": {},
   "source": [
    "Проверим принадлежность пользователей к обоим группам."
   ]
  },
  {
   "cell_type": "code",
   "execution_count": 8,
   "metadata": {},
   "outputs": [
    {
     "data": {
      "text/plain": [
       "visitorId    58\n",
       "group        58\n",
       "dtype: int64"
      ]
     },
     "execution_count": 8,
     "metadata": {},
     "output_type": "execute_result"
    }
   ],
   "source": [
    "#d_orders = orders[orders['visitorId'].duplicated()]\n",
    "orders = orders.sort_values(by='date')\n",
    "d_orders = orders[['visitorId','group']].drop_duplicates() \n",
    "d_orders[d_orders['visitorId'].duplicated()].count()\n"
   ]
  },
  {
   "cell_type": "markdown",
   "metadata": {},
   "source": [
    "В `orders` обнаружено 58 пользователей, которые были отнесены к обоим группам. Присвоим таким пользователям группу, которая была у них первее."
   ]
  },
  {
   "cell_type": "code",
   "execution_count": 9,
   "metadata": {},
   "outputs": [
    {
     "data": {
      "text/html": [
       "<div>\n",
       "<style scoped>\n",
       "    .dataframe tbody tr th:only-of-type {\n",
       "        vertical-align: middle;\n",
       "    }\n",
       "\n",
       "    .dataframe tbody tr th {\n",
       "        vertical-align: top;\n",
       "    }\n",
       "\n",
       "    .dataframe thead th {\n",
       "        text-align: right;\n",
       "    }\n",
       "</style>\n",
       "<table border=\"1\" class=\"dataframe\">\n",
       "  <thead>\n",
       "    <tr style=\"text-align: right;\">\n",
       "      <th></th>\n",
       "      <th>visitorId</th>\n",
       "      <th>group</th>\n",
       "    </tr>\n",
       "  </thead>\n",
       "  <tbody>\n",
       "    <tr>\n",
       "      <th>168</th>\n",
       "      <td>1581167209</td>\n",
       "      <td>A</td>\n",
       "    </tr>\n",
       "    <tr>\n",
       "      <th>73</th>\n",
       "      <td>2947100995</td>\n",
       "      <td>A</td>\n",
       "    </tr>\n",
       "    <tr>\n",
       "      <th>72</th>\n",
       "      <td>1422773200</td>\n",
       "      <td>A</td>\n",
       "    </tr>\n",
       "    <tr>\n",
       "      <th>71</th>\n",
       "      <td>8300375</td>\n",
       "      <td>B</td>\n",
       "    </tr>\n",
       "    <tr>\n",
       "      <th>70</th>\n",
       "      <td>2328378067</td>\n",
       "      <td>B</td>\n",
       "    </tr>\n",
       "    <tr>\n",
       "      <th>...</th>\n",
       "      <td>...</td>\n",
       "      <td>...</td>\n",
       "    </tr>\n",
       "    <tr>\n",
       "      <th>1021</th>\n",
       "      <td>4120364173</td>\n",
       "      <td>B</td>\n",
       "    </tr>\n",
       "    <tr>\n",
       "      <th>1022</th>\n",
       "      <td>3788724847</td>\n",
       "      <td>A</td>\n",
       "    </tr>\n",
       "    <tr>\n",
       "      <th>1023</th>\n",
       "      <td>930758570</td>\n",
       "      <td>B</td>\n",
       "    </tr>\n",
       "    <tr>\n",
       "      <th>995</th>\n",
       "      <td>2075883701</td>\n",
       "      <td>B</td>\n",
       "    </tr>\n",
       "    <tr>\n",
       "      <th>959</th>\n",
       "      <td>2973964255</td>\n",
       "      <td>B</td>\n",
       "    </tr>\n",
       "  </tbody>\n",
       "</table>\n",
       "<p>1089 rows × 2 columns</p>\n",
       "</div>"
      ],
      "text/plain": [
       "       visitorId group\n",
       "168   1581167209     A\n",
       "73    2947100995     A\n",
       "72    1422773200     A\n",
       "71       8300375     B\n",
       "70    2328378067     B\n",
       "...          ...   ...\n",
       "1021  4120364173     B\n",
       "1022  3788724847     A\n",
       "1023   930758570     B\n",
       "995   2075883701     B\n",
       "959   2973964255     B\n",
       "\n",
       "[1089 rows x 2 columns]"
      ]
     },
     "execution_count": 9,
     "metadata": {},
     "output_type": "execute_result"
    }
   ],
   "source": [
    "d_orders"
   ]
  },
  {
   "cell_type": "code",
   "execution_count": 10,
   "metadata": {},
   "outputs": [
    {
     "data": {
      "text/html": [
       "<div>\n",
       "<style scoped>\n",
       "    .dataframe tbody tr th:only-of-type {\n",
       "        vertical-align: middle;\n",
       "    }\n",
       "\n",
       "    .dataframe tbody tr th {\n",
       "        vertical-align: top;\n",
       "    }\n",
       "\n",
       "    .dataframe thead th {\n",
       "        text-align: right;\n",
       "    }\n",
       "</style>\n",
       "<table border=\"1\" class=\"dataframe\">\n",
       "  <thead>\n",
       "    <tr style=\"text-align: right;\">\n",
       "      <th></th>\n",
       "      <th>visitorId</th>\n",
       "      <th>group</th>\n",
       "    </tr>\n",
       "  </thead>\n",
       "  <tbody>\n",
       "    <tr>\n",
       "      <th>71</th>\n",
       "      <td>8300375</td>\n",
       "      <td>B</td>\n",
       "    </tr>\n",
       "    <tr>\n",
       "      <th>114</th>\n",
       "      <td>4256040402</td>\n",
       "      <td>A</td>\n",
       "    </tr>\n",
       "    <tr>\n",
       "      <th>112</th>\n",
       "      <td>3062433592</td>\n",
       "      <td>B</td>\n",
       "    </tr>\n",
       "    <tr>\n",
       "      <th>139</th>\n",
       "      <td>2716752286</td>\n",
       "      <td>B</td>\n",
       "    </tr>\n",
       "    <tr>\n",
       "      <th>246</th>\n",
       "      <td>199603092</td>\n",
       "      <td>B</td>\n",
       "    </tr>\n",
       "    <tr>\n",
       "      <th>406</th>\n",
       "      <td>1404934699</td>\n",
       "      <td>B</td>\n",
       "    </tr>\n",
       "    <tr>\n",
       "      <th>310</th>\n",
       "      <td>3984495233</td>\n",
       "      <td>B</td>\n",
       "    </tr>\n",
       "    <tr>\n",
       "      <th>606</th>\n",
       "      <td>3891541246</td>\n",
       "      <td>B</td>\n",
       "    </tr>\n",
       "    <tr>\n",
       "      <th>605</th>\n",
       "      <td>2038680547</td>\n",
       "      <td>A</td>\n",
       "    </tr>\n",
       "    <tr>\n",
       "      <th>535</th>\n",
       "      <td>3972127743</td>\n",
       "      <td>B</td>\n",
       "    </tr>\n",
       "    <tr>\n",
       "      <th>611</th>\n",
       "      <td>2458001652</td>\n",
       "      <td>A</td>\n",
       "    </tr>\n",
       "    <tr>\n",
       "      <th>805</th>\n",
       "      <td>1801183820</td>\n",
       "      <td>B</td>\n",
       "    </tr>\n",
       "    <tr>\n",
       "      <th>844</th>\n",
       "      <td>471551937</td>\n",
       "      <td>A</td>\n",
       "    </tr>\n",
       "    <tr>\n",
       "      <th>453</th>\n",
       "      <td>351125977</td>\n",
       "      <td>A</td>\n",
       "    </tr>\n",
       "    <tr>\n",
       "      <th>455</th>\n",
       "      <td>2954449915</td>\n",
       "      <td>B</td>\n",
       "    </tr>\n",
       "    <tr>\n",
       "      <th>480</th>\n",
       "      <td>2600415354</td>\n",
       "      <td>B</td>\n",
       "    </tr>\n",
       "    <tr>\n",
       "      <th>415</th>\n",
       "      <td>2587333274</td>\n",
       "      <td>B</td>\n",
       "    </tr>\n",
       "    <tr>\n",
       "      <th>450</th>\n",
       "      <td>1333886533</td>\n",
       "      <td>A</td>\n",
       "    </tr>\n",
       "    <tr>\n",
       "      <th>936</th>\n",
       "      <td>393266494</td>\n",
       "      <td>B</td>\n",
       "    </tr>\n",
       "    <tr>\n",
       "      <th>938</th>\n",
       "      <td>3717692402</td>\n",
       "      <td>B</td>\n",
       "    </tr>\n",
       "    <tr>\n",
       "      <th>914</th>\n",
       "      <td>1602967004</td>\n",
       "      <td>A</td>\n",
       "    </tr>\n",
       "    <tr>\n",
       "      <th>677</th>\n",
       "      <td>1294878855</td>\n",
       "      <td>A</td>\n",
       "    </tr>\n",
       "    <tr>\n",
       "      <th>676</th>\n",
       "      <td>1230306981</td>\n",
       "      <td>A</td>\n",
       "    </tr>\n",
       "    <tr>\n",
       "      <th>693</th>\n",
       "      <td>3803269165</td>\n",
       "      <td>B</td>\n",
       "    </tr>\n",
       "    <tr>\n",
       "      <th>697</th>\n",
       "      <td>2378935119</td>\n",
       "      <td>B</td>\n",
       "    </tr>\n",
       "    <tr>\n",
       "      <th>1042</th>\n",
       "      <td>3656415546</td>\n",
       "      <td>B</td>\n",
       "    </tr>\n",
       "    <tr>\n",
       "      <th>1074</th>\n",
       "      <td>457167155</td>\n",
       "      <td>B</td>\n",
       "    </tr>\n",
       "    <tr>\n",
       "      <th>1070</th>\n",
       "      <td>4069496402</td>\n",
       "      <td>B</td>\n",
       "    </tr>\n",
       "    <tr>\n",
       "      <th>1093</th>\n",
       "      <td>276558944</td>\n",
       "      <td>A</td>\n",
       "    </tr>\n",
       "    <tr>\n",
       "      <th>1097</th>\n",
       "      <td>237748145</td>\n",
       "      <td>A</td>\n",
       "    </tr>\n",
       "    <tr>\n",
       "      <th>1122</th>\n",
       "      <td>2654030115</td>\n",
       "      <td>B</td>\n",
       "    </tr>\n",
       "    <tr>\n",
       "      <th>1184</th>\n",
       "      <td>2949041841</td>\n",
       "      <td>B</td>\n",
       "    </tr>\n",
       "    <tr>\n",
       "      <th>1195</th>\n",
       "      <td>1614305549</td>\n",
       "      <td>A</td>\n",
       "    </tr>\n",
       "    <tr>\n",
       "      <th>1183</th>\n",
       "      <td>963407295</td>\n",
       "      <td>A</td>\n",
       "    </tr>\n",
       "    <tr>\n",
       "      <th>1162</th>\n",
       "      <td>3963646447</td>\n",
       "      <td>A</td>\n",
       "    </tr>\n",
       "    <tr>\n",
       "      <th>1163</th>\n",
       "      <td>818047933</td>\n",
       "      <td>B</td>\n",
       "    </tr>\n",
       "    <tr>\n",
       "      <th>1167</th>\n",
       "      <td>4186807279</td>\n",
       "      <td>A</td>\n",
       "    </tr>\n",
       "    <tr>\n",
       "      <th>1182</th>\n",
       "      <td>1668030113</td>\n",
       "      <td>B</td>\n",
       "    </tr>\n",
       "    <tr>\n",
       "      <th>1173</th>\n",
       "      <td>2712142231</td>\n",
       "      <td>A</td>\n",
       "    </tr>\n",
       "    <tr>\n",
       "      <th>24</th>\n",
       "      <td>3234906277</td>\n",
       "      <td>B</td>\n",
       "    </tr>\n",
       "    <tr>\n",
       "      <th>189</th>\n",
       "      <td>1648269707</td>\n",
       "      <td>B</td>\n",
       "    </tr>\n",
       "    <tr>\n",
       "      <th>265</th>\n",
       "      <td>2579882178</td>\n",
       "      <td>A</td>\n",
       "    </tr>\n",
       "    <tr>\n",
       "      <th>269</th>\n",
       "      <td>3957174400</td>\n",
       "      <td>A</td>\n",
       "    </tr>\n",
       "    <tr>\n",
       "      <th>842</th>\n",
       "      <td>3941795274</td>\n",
       "      <td>A</td>\n",
       "    </tr>\n",
       "    <tr>\n",
       "      <th>129</th>\n",
       "      <td>1738359350</td>\n",
       "      <td>A</td>\n",
       "    </tr>\n",
       "    <tr>\n",
       "      <th>254</th>\n",
       "      <td>2686716486</td>\n",
       "      <td>B</td>\n",
       "    </tr>\n",
       "    <tr>\n",
       "      <th>230</th>\n",
       "      <td>2927087541</td>\n",
       "      <td>A</td>\n",
       "    </tr>\n",
       "    <tr>\n",
       "      <th>432</th>\n",
       "      <td>3202540741</td>\n",
       "      <td>B</td>\n",
       "    </tr>\n",
       "    <tr>\n",
       "      <th>370</th>\n",
       "      <td>2044997962</td>\n",
       "      <td>A</td>\n",
       "    </tr>\n",
       "    <tr>\n",
       "      <th>375</th>\n",
       "      <td>1959144690</td>\n",
       "      <td>A</td>\n",
       "    </tr>\n",
       "    <tr>\n",
       "      <th>857</th>\n",
       "      <td>2780786433</td>\n",
       "      <td>B</td>\n",
       "    </tr>\n",
       "    <tr>\n",
       "      <th>858</th>\n",
       "      <td>1316129916</td>\n",
       "      <td>A</td>\n",
       "    </tr>\n",
       "    <tr>\n",
       "      <th>682</th>\n",
       "      <td>4266935830</td>\n",
       "      <td>B</td>\n",
       "    </tr>\n",
       "    <tr>\n",
       "      <th>497</th>\n",
       "      <td>3951559397</td>\n",
       "      <td>A</td>\n",
       "    </tr>\n",
       "    <tr>\n",
       "      <th>627</th>\n",
       "      <td>4120364173</td>\n",
       "      <td>A</td>\n",
       "    </tr>\n",
       "    <tr>\n",
       "      <th>730</th>\n",
       "      <td>477780734</td>\n",
       "      <td>A</td>\n",
       "    </tr>\n",
       "    <tr>\n",
       "      <th>832</th>\n",
       "      <td>3766097110</td>\n",
       "      <td>B</td>\n",
       "    </tr>\n",
       "    <tr>\n",
       "      <th>1009</th>\n",
       "      <td>232979603</td>\n",
       "      <td>B</td>\n",
       "    </tr>\n",
       "  </tbody>\n",
       "</table>\n",
       "</div>"
      ],
      "text/plain": [
       "       visitorId group\n",
       "71       8300375     B\n",
       "114   4256040402     A\n",
       "112   3062433592     B\n",
       "139   2716752286     B\n",
       "246    199603092     B\n",
       "406   1404934699     B\n",
       "310   3984495233     B\n",
       "606   3891541246     B\n",
       "605   2038680547     A\n",
       "535   3972127743     B\n",
       "611   2458001652     A\n",
       "805   1801183820     B\n",
       "844    471551937     A\n",
       "453    351125977     A\n",
       "455   2954449915     B\n",
       "480   2600415354     B\n",
       "415   2587333274     B\n",
       "450   1333886533     A\n",
       "936    393266494     B\n",
       "938   3717692402     B\n",
       "914   1602967004     A\n",
       "677   1294878855     A\n",
       "676   1230306981     A\n",
       "693   3803269165     B\n",
       "697   2378935119     B\n",
       "1042  3656415546     B\n",
       "1074   457167155     B\n",
       "1070  4069496402     B\n",
       "1093   276558944     A\n",
       "1097   237748145     A\n",
       "1122  2654030115     B\n",
       "1184  2949041841     B\n",
       "1195  1614305549     A\n",
       "1183   963407295     A\n",
       "1162  3963646447     A\n",
       "1163   818047933     B\n",
       "1167  4186807279     A\n",
       "1182  1668030113     B\n",
       "1173  2712142231     A\n",
       "24    3234906277     B\n",
       "189   1648269707     B\n",
       "265   2579882178     A\n",
       "269   3957174400     A\n",
       "842   3941795274     A\n",
       "129   1738359350     A\n",
       "254   2686716486     B\n",
       "230   2927087541     A\n",
       "432   3202540741     B\n",
       "370   2044997962     A\n",
       "375   1959144690     A\n",
       "857   2780786433     B\n",
       "858   1316129916     A\n",
       "682   4266935830     B\n",
       "497   3951559397     A\n",
       "627   4120364173     A\n",
       "730    477780734     A\n",
       "832   3766097110     B\n",
       "1009   232979603     B"
      ]
     },
     "execution_count": 10,
     "metadata": {},
     "output_type": "execute_result"
    }
   ],
   "source": [
    "visitorsID_group = d_orders[d_orders['visitorId'].duplicated(keep='last')]\n",
    "visitorsID_group"
   ]
  },
  {
   "cell_type": "code",
   "execution_count": 11,
   "metadata": {},
   "outputs": [],
   "source": [
    "orders = orders.merge(visitorsID_group, on='visitorId', how='left')\n",
    "orders['group_y'] = orders['group_y'].fillna(value=orders['group_x']) "
   ]
  },
  {
   "cell_type": "code",
   "execution_count": 12,
   "metadata": {},
   "outputs": [
    {
     "data": {
      "text/html": [
       "<div>\n",
       "<style scoped>\n",
       "    .dataframe tbody tr th:only-of-type {\n",
       "        vertical-align: middle;\n",
       "    }\n",
       "\n",
       "    .dataframe tbody tr th {\n",
       "        vertical-align: top;\n",
       "    }\n",
       "\n",
       "    .dataframe thead th {\n",
       "        text-align: right;\n",
       "    }\n",
       "</style>\n",
       "<table border=\"1\" class=\"dataframe\">\n",
       "  <thead>\n",
       "    <tr style=\"text-align: right;\">\n",
       "      <th></th>\n",
       "      <th>transactionId</th>\n",
       "      <th>visitorId</th>\n",
       "      <th>date</th>\n",
       "      <th>revenue</th>\n",
       "      <th>group</th>\n",
       "    </tr>\n",
       "  </thead>\n",
       "  <tbody>\n",
       "    <tr>\n",
       "      <th>0</th>\n",
       "      <td>2065527789</td>\n",
       "      <td>1581167209</td>\n",
       "      <td>2019-08-01</td>\n",
       "      <td>1780</td>\n",
       "      <td>A</td>\n",
       "    </tr>\n",
       "    <tr>\n",
       "      <th>1</th>\n",
       "      <td>1295850747</td>\n",
       "      <td>2947100995</td>\n",
       "      <td>2019-08-01</td>\n",
       "      <td>29499</td>\n",
       "      <td>A</td>\n",
       "    </tr>\n",
       "    <tr>\n",
       "      <th>2</th>\n",
       "      <td>477940151</td>\n",
       "      <td>1422773200</td>\n",
       "      <td>2019-08-01</td>\n",
       "      <td>700</td>\n",
       "      <td>A</td>\n",
       "    </tr>\n",
       "    <tr>\n",
       "      <th>3</th>\n",
       "      <td>3679129301</td>\n",
       "      <td>8300375</td>\n",
       "      <td>2019-08-01</td>\n",
       "      <td>10510</td>\n",
       "      <td>B</td>\n",
       "    </tr>\n",
       "    <tr>\n",
       "      <th>4</th>\n",
       "      <td>3574407166</td>\n",
       "      <td>2328378067</td>\n",
       "      <td>2019-08-01</td>\n",
       "      <td>8999</td>\n",
       "      <td>B</td>\n",
       "    </tr>\n",
       "    <tr>\n",
       "      <th>...</th>\n",
       "      <td>...</td>\n",
       "      <td>...</td>\n",
       "      <td>...</td>\n",
       "      <td>...</td>\n",
       "      <td>...</td>\n",
       "    </tr>\n",
       "    <tr>\n",
       "      <th>1192</th>\n",
       "      <td>969750843</td>\n",
       "      <td>4120364173</td>\n",
       "      <td>2019-08-31</td>\n",
       "      <td>15500</td>\n",
       "      <td>A</td>\n",
       "    </tr>\n",
       "    <tr>\n",
       "      <th>1193</th>\n",
       "      <td>2411823395</td>\n",
       "      <td>3788724847</td>\n",
       "      <td>2019-08-31</td>\n",
       "      <td>2610</td>\n",
       "      <td>A</td>\n",
       "    </tr>\n",
       "    <tr>\n",
       "      <th>1194</th>\n",
       "      <td>2886170101</td>\n",
       "      <td>930758570</td>\n",
       "      <td>2019-08-31</td>\n",
       "      <td>6674</td>\n",
       "      <td>B</td>\n",
       "    </tr>\n",
       "    <tr>\n",
       "      <th>1195</th>\n",
       "      <td>3465107905</td>\n",
       "      <td>2075883701</td>\n",
       "      <td>2019-08-31</td>\n",
       "      <td>2610</td>\n",
       "      <td>B</td>\n",
       "    </tr>\n",
       "    <tr>\n",
       "      <th>1196</th>\n",
       "      <td>3027277658</td>\n",
       "      <td>2973964255</td>\n",
       "      <td>2019-08-31</td>\n",
       "      <td>1850</td>\n",
       "      <td>B</td>\n",
       "    </tr>\n",
       "  </tbody>\n",
       "</table>\n",
       "<p>1197 rows × 5 columns</p>\n",
       "</div>"
      ],
      "text/plain": [
       "      transactionId   visitorId       date  revenue group\n",
       "0        2065527789  1581167209 2019-08-01     1780     A\n",
       "1        1295850747  2947100995 2019-08-01    29499     A\n",
       "2         477940151  1422773200 2019-08-01      700     A\n",
       "3        3679129301     8300375 2019-08-01    10510     B\n",
       "4        3574407166  2328378067 2019-08-01     8999     B\n",
       "...             ...         ...        ...      ...   ...\n",
       "1192      969750843  4120364173 2019-08-31    15500     A\n",
       "1193     2411823395  3788724847 2019-08-31     2610     A\n",
       "1194     2886170101   930758570 2019-08-31     6674     B\n",
       "1195     3465107905  2075883701 2019-08-31     2610     B\n",
       "1196     3027277658  2973964255 2019-08-31     1850     B\n",
       "\n",
       "[1197 rows x 5 columns]"
      ]
     },
     "execution_count": 12,
     "metadata": {},
     "output_type": "execute_result"
    }
   ],
   "source": [
    "orders = orders.drop(['group_x'], axis=1)\n",
    "orders.columns = ['transactionId', 'visitorId', 'date', 'revenue', 'group']\n",
    "orders"
   ]
  },
  {
   "cell_type": "markdown",
   "metadata": {},
   "source": [
    "##### Изучение общей информации visitors"
   ]
  },
  {
   "cell_type": "code",
   "execution_count": 13,
   "metadata": {},
   "outputs": [
    {
     "data": {
      "text/html": [
       "<div>\n",
       "<style scoped>\n",
       "    .dataframe tbody tr th:only-of-type {\n",
       "        vertical-align: middle;\n",
       "    }\n",
       "\n",
       "    .dataframe tbody tr th {\n",
       "        vertical-align: top;\n",
       "    }\n",
       "\n",
       "    .dataframe thead th {\n",
       "        text-align: right;\n",
       "    }\n",
       "</style>\n",
       "<table border=\"1\" class=\"dataframe\">\n",
       "  <thead>\n",
       "    <tr style=\"text-align: right;\">\n",
       "      <th></th>\n",
       "      <th>date</th>\n",
       "      <th>group</th>\n",
       "      <th>visitors</th>\n",
       "    </tr>\n",
       "  </thead>\n",
       "  <tbody>\n",
       "    <tr>\n",
       "      <th>0</th>\n",
       "      <td>2019-08-01</td>\n",
       "      <td>A</td>\n",
       "      <td>719</td>\n",
       "    </tr>\n",
       "    <tr>\n",
       "      <th>1</th>\n",
       "      <td>2019-08-02</td>\n",
       "      <td>A</td>\n",
       "      <td>619</td>\n",
       "    </tr>\n",
       "    <tr>\n",
       "      <th>2</th>\n",
       "      <td>2019-08-03</td>\n",
       "      <td>A</td>\n",
       "      <td>507</td>\n",
       "    </tr>\n",
       "    <tr>\n",
       "      <th>3</th>\n",
       "      <td>2019-08-04</td>\n",
       "      <td>A</td>\n",
       "      <td>717</td>\n",
       "    </tr>\n",
       "    <tr>\n",
       "      <th>4</th>\n",
       "      <td>2019-08-05</td>\n",
       "      <td>A</td>\n",
       "      <td>756</td>\n",
       "    </tr>\n",
       "  </tbody>\n",
       "</table>\n",
       "</div>"
      ],
      "text/plain": [
       "         date group  visitors\n",
       "0  2019-08-01     A       719\n",
       "1  2019-08-02     A       619\n",
       "2  2019-08-03     A       507\n",
       "3  2019-08-04     A       717\n",
       "4  2019-08-05     A       756"
      ]
     },
     "execution_count": 13,
     "metadata": {},
     "output_type": "execute_result"
    }
   ],
   "source": [
    "visitors.head()"
   ]
  },
  {
   "cell_type": "markdown",
   "metadata": {},
   "source": [
    "Таблица `visitors` содержит данные о визитах, наблюдаемых в период A/B-теста. Данные этого датафрейма также будут проанализированы [в третьей части исследования](#section_3_1).\n",
    "Изучим общую информацию этой таблицы."
   ]
  },
  {
   "cell_type": "code",
   "execution_count": 14,
   "metadata": {},
   "outputs": [
    {
     "name": "stdout",
     "output_type": "stream",
     "text": [
      "<class 'pandas.core.frame.DataFrame'>\n",
      "RangeIndex: 62 entries, 0 to 61\n",
      "Data columns (total 3 columns):\n",
      " #   Column    Non-Null Count  Dtype \n",
      "---  ------    --------------  ----- \n",
      " 0   date      62 non-null     object\n",
      " 1   group     62 non-null     object\n",
      " 2   visitors  62 non-null     int64 \n",
      "dtypes: int64(1), object(2)\n",
      "memory usage: 1.6+ KB\n"
     ]
    }
   ],
   "source": [
    "visitors.info()"
   ]
  },
  {
   "cell_type": "markdown",
   "metadata": {},
   "source": [
    "Также как и в датафрейме `orders` необходимо изменить тип данных для даты таким же способом."
   ]
  },
  {
   "cell_type": "code",
   "execution_count": 15,
   "metadata": {},
   "outputs": [],
   "source": [
    "visitors['date'] = visitors['date'].map(lambda x: dt.datetime.strptime(x, '%Y-%m-%d'))"
   ]
  },
  {
   "cell_type": "markdown",
   "metadata": {},
   "source": [
    "Теперь, когда общая информация о данных изучена и исправлены неточности в них, можем приступать к исследовательской части работы."
   ]
  },
  {
   "cell_type": "markdown",
   "metadata": {},
   "source": [
    "## Часть 2. Приоритизация гипотез"
   ]
  },
  {
   "cell_type": "markdown",
   "metadata": {},
   "source": [
    "<a id='section_2_1'></a>"
   ]
  },
  {
   "cell_type": "markdown",
   "metadata": {},
   "source": [
    "Как было отмечено [в первой части исследования](#section_1_2), в таблице `hypothesis` отражены гипотезы и четыре параметра с оценками критерией от 1 до 10. Произведем приоритизацию гипотез фреймворками `ICE` и `RICE`. "
   ]
  },
  {
   "cell_type": "markdown",
   "metadata": {},
   "source": [
    "### 2.1. Фреймворк ICE."
   ]
  },
  {
   "cell_type": "markdown",
   "metadata": {},
   "source": [
    "Данный фреймворк расчитывается как отношение произведения параметров `Impact` и `Confidence` к параметру `Efforts`.\n",
    "Расчитаем фреймворк по формуле и отсортируем его по убыванию."
   ]
  },
  {
   "cell_type": "code",
   "execution_count": 16,
   "metadata": {},
   "outputs": [
    {
     "data": {
      "text/html": [
       "<div>\n",
       "<style scoped>\n",
       "    .dataframe tbody tr th:only-of-type {\n",
       "        vertical-align: middle;\n",
       "    }\n",
       "\n",
       "    .dataframe tbody tr th {\n",
       "        vertical-align: top;\n",
       "    }\n",
       "\n",
       "    .dataframe thead th {\n",
       "        text-align: right;\n",
       "    }\n",
       "</style>\n",
       "<table border=\"1\" class=\"dataframe\">\n",
       "  <thead>\n",
       "    <tr style=\"text-align: right;\">\n",
       "      <th></th>\n",
       "      <th>Hypothesis</th>\n",
       "      <th>Reach</th>\n",
       "      <th>Impact</th>\n",
       "      <th>Confidence</th>\n",
       "      <th>Efforts</th>\n",
       "      <th>ICE_score</th>\n",
       "    </tr>\n",
       "  </thead>\n",
       "  <tbody>\n",
       "    <tr>\n",
       "      <th>8</th>\n",
       "      <td>Запустить акцию, дающую скидку на товар в день...</td>\n",
       "      <td>1</td>\n",
       "      <td>9</td>\n",
       "      <td>9</td>\n",
       "      <td>5</td>\n",
       "      <td>16.200000</td>\n",
       "    </tr>\n",
       "    <tr>\n",
       "      <th>0</th>\n",
       "      <td>Добавить два новых канала привлечения трафика,...</td>\n",
       "      <td>3</td>\n",
       "      <td>10</td>\n",
       "      <td>8</td>\n",
       "      <td>6</td>\n",
       "      <td>13.333333</td>\n",
       "    </tr>\n",
       "    <tr>\n",
       "      <th>7</th>\n",
       "      <td>Добавить форму подписки на все основные страни...</td>\n",
       "      <td>10</td>\n",
       "      <td>7</td>\n",
       "      <td>8</td>\n",
       "      <td>5</td>\n",
       "      <td>11.200000</td>\n",
       "    </tr>\n",
       "    <tr>\n",
       "      <th>6</th>\n",
       "      <td>Показать на главной странице баннеры с актуаль...</td>\n",
       "      <td>5</td>\n",
       "      <td>3</td>\n",
       "      <td>8</td>\n",
       "      <td>3</td>\n",
       "      <td>8.000000</td>\n",
       "    </tr>\n",
       "    <tr>\n",
       "      <th>2</th>\n",
       "      <td>Добавить блоки рекомендаций товаров на сайт ин...</td>\n",
       "      <td>8</td>\n",
       "      <td>3</td>\n",
       "      <td>7</td>\n",
       "      <td>3</td>\n",
       "      <td>7.000000</td>\n",
       "    </tr>\n",
       "    <tr>\n",
       "      <th>1</th>\n",
       "      <td>Запустить собственную службу доставки, что сок...</td>\n",
       "      <td>2</td>\n",
       "      <td>5</td>\n",
       "      <td>4</td>\n",
       "      <td>10</td>\n",
       "      <td>2.000000</td>\n",
       "    </tr>\n",
       "    <tr>\n",
       "      <th>5</th>\n",
       "      <td>Добавить страницу отзывов клиентов о магазине,...</td>\n",
       "      <td>3</td>\n",
       "      <td>2</td>\n",
       "      <td>2</td>\n",
       "      <td>3</td>\n",
       "      <td>1.333333</td>\n",
       "    </tr>\n",
       "    <tr>\n",
       "      <th>3</th>\n",
       "      <td>Изменить структура категорий, что увеличит кон...</td>\n",
       "      <td>8</td>\n",
       "      <td>3</td>\n",
       "      <td>3</td>\n",
       "      <td>8</td>\n",
       "      <td>1.125000</td>\n",
       "    </tr>\n",
       "    <tr>\n",
       "      <th>4</th>\n",
       "      <td>Изменить цвет фона главной страницы, чтобы уве...</td>\n",
       "      <td>3</td>\n",
       "      <td>1</td>\n",
       "      <td>1</td>\n",
       "      <td>1</td>\n",
       "      <td>1.000000</td>\n",
       "    </tr>\n",
       "  </tbody>\n",
       "</table>\n",
       "</div>"
      ],
      "text/plain": [
       "                                          Hypothesis  Reach  Impact  \\\n",
       "8  Запустить акцию, дающую скидку на товар в день...      1       9   \n",
       "0  Добавить два новых канала привлечения трафика,...      3      10   \n",
       "7  Добавить форму подписки на все основные страни...     10       7   \n",
       "6  Показать на главной странице баннеры с актуаль...      5       3   \n",
       "2  Добавить блоки рекомендаций товаров на сайт ин...      8       3   \n",
       "1  Запустить собственную службу доставки, что сок...      2       5   \n",
       "5  Добавить страницу отзывов клиентов о магазине,...      3       2   \n",
       "3  Изменить структура категорий, что увеличит кон...      8       3   \n",
       "4  Изменить цвет фона главной страницы, чтобы уве...      3       1   \n",
       "\n",
       "   Confidence  Efforts  ICE_score  \n",
       "8           9        5  16.200000  \n",
       "0           8        6  13.333333  \n",
       "7           8        5  11.200000  \n",
       "6           8        3   8.000000  \n",
       "2           7        3   7.000000  \n",
       "1           4       10   2.000000  \n",
       "5           2        3   1.333333  \n",
       "3           3        8   1.125000  \n",
       "4           1        1   1.000000  "
      ]
     },
     "execution_count": 16,
     "metadata": {},
     "output_type": "execute_result"
    }
   ],
   "source": [
    "hypothesis ['ICE_score'] = hypothesis['Impact'] * hypothesis['Confidence'] / hypothesis['Efforts']\n",
    "hypothesis = hypothesis.sort_values(by='ICE_score', ascending=False)\n",
    "hypothesis"
   ]
  },
  {
   "cell_type": "markdown",
   "metadata": {},
   "source": [
    "### Выводы по значениям `ICE`:\n",
    "\n",
    "* наивысшим баллом была оценена гипотеза №8, имеет высокий уровень влияния `Impact` и уверенности в оценках `Confidence`, а также средний уровень сложности проверки гипотезы `Efforts`;\n",
    "* с результатом в 13.3 балла гипотеза №0 занимает второе место, гипотеза имеет наивысшую оценку параметра `Impact`, но на балл ниже оценен `Confidence`, чем у гипотезы №8;\n",
    "* замыкает тройку самых приоритетных гипотез по фреймворку `ICE` гипотеза №7, оценки параметров `Impact` и `Confidence` которой выше среднего при 5 баллах параметра `Efforts`;\n",
    "* остальные гипотезы имеют либо высокие значения `Efforts` при низких-средних `Impact` и `Confidence`, кроме гипотезы №4, которая имеет имеет по всем параметрам оценку 1;\n",
    "* таким образом наиболее приоритетные гипотезы имеют высокие оценки параметров `Impact` и `Confidece` при средних оценках `Efforts`."
   ]
  },
  {
   "cell_type": "markdown",
   "metadata": {},
   "source": [
    "<a id='section_2_2'></a>"
   ]
  },
  {
   "cell_type": "markdown",
   "metadata": {},
   "source": [
    "### 2.2. Фреймворк RICE."
   ]
  },
  {
   "cell_type": "markdown",
   "metadata": {},
   "source": [
    "Фреймворк `RICE` расчитывается как отношение произведения параметров `Reach`, `Impact` и `Confidence` к параметру `Efforts`. Расчитаем фреймворк по формуле и отсортируем его по убыванию."
   ]
  },
  {
   "cell_type": "code",
   "execution_count": 17,
   "metadata": {},
   "outputs": [
    {
     "data": {
      "text/html": [
       "<div>\n",
       "<style scoped>\n",
       "    .dataframe tbody tr th:only-of-type {\n",
       "        vertical-align: middle;\n",
       "    }\n",
       "\n",
       "    .dataframe tbody tr th {\n",
       "        vertical-align: top;\n",
       "    }\n",
       "\n",
       "    .dataframe thead th {\n",
       "        text-align: right;\n",
       "    }\n",
       "</style>\n",
       "<table border=\"1\" class=\"dataframe\">\n",
       "  <thead>\n",
       "    <tr style=\"text-align: right;\">\n",
       "      <th></th>\n",
       "      <th>Hypothesis</th>\n",
       "      <th>Reach</th>\n",
       "      <th>Impact</th>\n",
       "      <th>Confidence</th>\n",
       "      <th>Efforts</th>\n",
       "      <th>ICE_score</th>\n",
       "      <th>RICE_score</th>\n",
       "    </tr>\n",
       "  </thead>\n",
       "  <tbody>\n",
       "    <tr>\n",
       "      <th>7</th>\n",
       "      <td>Добавить форму подписки на все основные страни...</td>\n",
       "      <td>10</td>\n",
       "      <td>7</td>\n",
       "      <td>8</td>\n",
       "      <td>5</td>\n",
       "      <td>11.200000</td>\n",
       "      <td>112.0</td>\n",
       "    </tr>\n",
       "    <tr>\n",
       "      <th>2</th>\n",
       "      <td>Добавить блоки рекомендаций товаров на сайт ин...</td>\n",
       "      <td>8</td>\n",
       "      <td>3</td>\n",
       "      <td>7</td>\n",
       "      <td>3</td>\n",
       "      <td>7.000000</td>\n",
       "      <td>56.0</td>\n",
       "    </tr>\n",
       "    <tr>\n",
       "      <th>0</th>\n",
       "      <td>Добавить два новых канала привлечения трафика,...</td>\n",
       "      <td>3</td>\n",
       "      <td>10</td>\n",
       "      <td>8</td>\n",
       "      <td>6</td>\n",
       "      <td>13.333333</td>\n",
       "      <td>40.0</td>\n",
       "    </tr>\n",
       "    <tr>\n",
       "      <th>6</th>\n",
       "      <td>Показать на главной странице баннеры с актуаль...</td>\n",
       "      <td>5</td>\n",
       "      <td>3</td>\n",
       "      <td>8</td>\n",
       "      <td>3</td>\n",
       "      <td>8.000000</td>\n",
       "      <td>40.0</td>\n",
       "    </tr>\n",
       "    <tr>\n",
       "      <th>8</th>\n",
       "      <td>Запустить акцию, дающую скидку на товар в день...</td>\n",
       "      <td>1</td>\n",
       "      <td>9</td>\n",
       "      <td>9</td>\n",
       "      <td>5</td>\n",
       "      <td>16.200000</td>\n",
       "      <td>16.2</td>\n",
       "    </tr>\n",
       "    <tr>\n",
       "      <th>3</th>\n",
       "      <td>Изменить структура категорий, что увеличит кон...</td>\n",
       "      <td>8</td>\n",
       "      <td>3</td>\n",
       "      <td>3</td>\n",
       "      <td>8</td>\n",
       "      <td>1.125000</td>\n",
       "      <td>9.0</td>\n",
       "    </tr>\n",
       "    <tr>\n",
       "      <th>1</th>\n",
       "      <td>Запустить собственную службу доставки, что сок...</td>\n",
       "      <td>2</td>\n",
       "      <td>5</td>\n",
       "      <td>4</td>\n",
       "      <td>10</td>\n",
       "      <td>2.000000</td>\n",
       "      <td>4.0</td>\n",
       "    </tr>\n",
       "    <tr>\n",
       "      <th>5</th>\n",
       "      <td>Добавить страницу отзывов клиентов о магазине,...</td>\n",
       "      <td>3</td>\n",
       "      <td>2</td>\n",
       "      <td>2</td>\n",
       "      <td>3</td>\n",
       "      <td>1.333333</td>\n",
       "      <td>4.0</td>\n",
       "    </tr>\n",
       "    <tr>\n",
       "      <th>4</th>\n",
       "      <td>Изменить цвет фона главной страницы, чтобы уве...</td>\n",
       "      <td>3</td>\n",
       "      <td>1</td>\n",
       "      <td>1</td>\n",
       "      <td>1</td>\n",
       "      <td>1.000000</td>\n",
       "      <td>3.0</td>\n",
       "    </tr>\n",
       "  </tbody>\n",
       "</table>\n",
       "</div>"
      ],
      "text/plain": [
       "                                          Hypothesis  Reach  Impact  \\\n",
       "7  Добавить форму подписки на все основные страни...     10       7   \n",
       "2  Добавить блоки рекомендаций товаров на сайт ин...      8       3   \n",
       "0  Добавить два новых канала привлечения трафика,...      3      10   \n",
       "6  Показать на главной странице баннеры с актуаль...      5       3   \n",
       "8  Запустить акцию, дающую скидку на товар в день...      1       9   \n",
       "3  Изменить структура категорий, что увеличит кон...      8       3   \n",
       "1  Запустить собственную службу доставки, что сок...      2       5   \n",
       "5  Добавить страницу отзывов клиентов о магазине,...      3       2   \n",
       "4  Изменить цвет фона главной страницы, чтобы уве...      3       1   \n",
       "\n",
       "   Confidence  Efforts  ICE_score  RICE_score  \n",
       "7           8        5  11.200000       112.0  \n",
       "2           7        3   7.000000        56.0  \n",
       "0           8        6  13.333333        40.0  \n",
       "6           8        3   8.000000        40.0  \n",
       "8           9        5  16.200000        16.2  \n",
       "3           3        8   1.125000         9.0  \n",
       "1           4       10   2.000000         4.0  \n",
       "5           2        3   1.333333         4.0  \n",
       "4           1        1   1.000000         3.0  "
      ]
     },
     "execution_count": 17,
     "metadata": {},
     "output_type": "execute_result"
    }
   ],
   "source": [
    "hypothesis ['RICE_score'] = hypothesis['Reach'] * hypothesis['Impact'] * hypothesis['Confidence'] / hypothesis['Efforts']\n",
    "hypothesis.sort_values(by='RICE_score', ascending=False)"
   ]
  },
  {
   "cell_type": "markdown",
   "metadata": {},
   "source": [
    "### Выводы по значениям `RICE`:\n",
    "\n",
    "* наивысшим баллом была оценена гипотеза №7 с результатом в 112 баллов, которая имеет высокую оценку параметра охвата `Reach` (10), выше среднего уровень влияния `Impact` и уверенности в оценках `Confidence`, а также средний уровень сложности проверки гипотезы `Efforts`;\n",
    "* следующая по приоритетности гипотеза №2 имеет баллов в два раза меньше (56), чем лидирующая гипотеза. Высокий показатель `Reach`, выше среднего `Confidence` и низкий `Efforts`.   \n",
    "* с результатом в 40 баллов гипотеза №0 занимает третье место, гипотеза имеет наивысшую оценку параметра `Impact`, при среднем знаменателе `Efforts`;\n",
    "* наиболее приоритетные гипотезы имеют высокие оценки параметров `Reach`, `Impact` и `Confidece` при средних-низких оценках `Efforts`."
   ]
  },
  {
   "cell_type": "markdown",
   "metadata": {},
   "source": [
    "### Общий вывод:\n",
    "\n",
    "* основное отличие двух фреймворков заключается в том, что `RICE` учитывает оценку охвата пользователей, которых затронет гипотетическое изменение;\n",
    "* согласно расчётам `RICE` гипотеза №7 является приоритетной, при этом при расчёте `ICE` данная гипотеза была 3-й по приоритетности;\n",
    "* значения `ICE` высокие у гипотез с высокими оценками влияния и уверенности, при этом у первых двух гипотез имеют низкую оценку охвата, которая не учитавалась при расчете этого фреймворка;\n",
    "* наиболее приоритетные (топ-3) гипотезы по `ICE` имели среднюю оценку стоимости теста гипотезы;\n",
    "* одна из наиболее приоритетных (топ-3) гипотез по `RICE` имела низкую оценку стоимости теста гипотезы, остальные имели среднюю."
   ]
  },
  {
   "cell_type": "markdown",
   "metadata": {},
   "source": [
    "## Часть 3. Анализ A/B-теста"
   ]
  },
  {
   "cell_type": "markdown",
   "metadata": {},
   "source": [
    "<a id='section_3_1'></a>"
   ]
  },
  {
   "cell_type": "markdown",
   "metadata": {},
   "source": [
    "### 3.1. Построение кумулятивных графиков выручки, среднего чека и его относительного изменения, конверсии и ее относительного изменения."
   ]
  },
  {
   "cell_type": "markdown",
   "metadata": {},
   "source": [
    "#### Кумулятивная выручка по группам"
   ]
  },
  {
   "cell_type": "markdown",
   "metadata": {},
   "source": [
    "Для создания кумулятивных данных создаем массив уникальных пар значений дат и групп теста."
   ]
  },
  {
   "cell_type": "code",
   "execution_count": 18,
   "metadata": {},
   "outputs": [],
   "source": [
    "datesGroups = orders[['date','group']].drop_duplicates() "
   ]
  },
  {
   "cell_type": "markdown",
   "metadata": {},
   "source": [
    "Получаем агрегированные кумулятивные по дням данные о заказах и о посетителях интернет-магазина"
   ]
  },
  {
   "cell_type": "code",
   "execution_count": 19,
   "metadata": {},
   "outputs": [],
   "source": [
    "ordersAggregated = datesGroups.apply(\n",
    "    lambda x: orders[\n",
    "        np.logical_and(\n",
    "            orders['date'] <= x['date'], orders['group'] == x['group']\n",
    "        )\n",
    "    ].agg(\n",
    "        {\n",
    "            'date': 'max',\n",
    "            'group': 'max',\n",
    "            'transactionId': pd.Series.nunique,\n",
    "            'visitorId': pd.Series.nunique,\n",
    "            'revenue': 'sum',\n",
    "        }\n",
    "    ),\n",
    "    axis=1,\n",
    ").sort_values(by=['date', 'group'])\n",
    "\n",
    "# получаем агрегированные кумулятивные по дням данные о посетителях интернет-магазина \n",
    "visitorsAggregated = datesGroups.apply(\n",
    "    lambda x: visitors[\n",
    "        np.logical_and(\n",
    "            visitors['date'] <= x['date'], visitors['group'] == x['group']\n",
    "        )\n",
    "    ].agg(\n",
    "        {\n",
    "            'date': 'max', \n",
    "            'group': 'max', \n",
    "            'visitors': 'sum'\n",
    "        }\n",
    "    ),\n",
    "    axis=1,\n",
    ").sort_values(by=['date', 'group'])\n"
   ]
  },
  {
   "cell_type": "markdown",
   "metadata": {},
   "source": [
    "Объединяем кумулятивные данные в одной таблице и присваиваем ее столбцам понятные названия"
   ]
  },
  {
   "cell_type": "code",
   "execution_count": 20,
   "metadata": {},
   "outputs": [
    {
     "data": {
      "text/html": [
       "<div>\n",
       "<style scoped>\n",
       "    .dataframe tbody tr th:only-of-type {\n",
       "        vertical-align: middle;\n",
       "    }\n",
       "\n",
       "    .dataframe tbody tr th {\n",
       "        vertical-align: top;\n",
       "    }\n",
       "\n",
       "    .dataframe thead th {\n",
       "        text-align: right;\n",
       "    }\n",
       "</style>\n",
       "<table border=\"1\" class=\"dataframe\">\n",
       "  <thead>\n",
       "    <tr style=\"text-align: right;\">\n",
       "      <th></th>\n",
       "      <th>date</th>\n",
       "      <th>group</th>\n",
       "      <th>transactions</th>\n",
       "      <th>buyers</th>\n",
       "      <th>revenue</th>\n",
       "      <th>visitors</th>\n",
       "    </tr>\n",
       "  </thead>\n",
       "  <tbody>\n",
       "    <tr>\n",
       "      <th>0</th>\n",
       "      <td>2019-08-01</td>\n",
       "      <td>A</td>\n",
       "      <td>24</td>\n",
       "      <td>20</td>\n",
       "      <td>148579</td>\n",
       "      <td>719</td>\n",
       "    </tr>\n",
       "    <tr>\n",
       "      <th>1</th>\n",
       "      <td>2019-08-01</td>\n",
       "      <td>B</td>\n",
       "      <td>21</td>\n",
       "      <td>20</td>\n",
       "      <td>101217</td>\n",
       "      <td>713</td>\n",
       "    </tr>\n",
       "    <tr>\n",
       "      <th>2</th>\n",
       "      <td>2019-08-02</td>\n",
       "      <td>A</td>\n",
       "      <td>43</td>\n",
       "      <td>37</td>\n",
       "      <td>240181</td>\n",
       "      <td>1338</td>\n",
       "    </tr>\n",
       "    <tr>\n",
       "      <th>3</th>\n",
       "      <td>2019-08-02</td>\n",
       "      <td>B</td>\n",
       "      <td>46</td>\n",
       "      <td>43</td>\n",
       "      <td>268968</td>\n",
       "      <td>1294</td>\n",
       "    </tr>\n",
       "    <tr>\n",
       "      <th>4</th>\n",
       "      <td>2019-08-03</td>\n",
       "      <td>A</td>\n",
       "      <td>67</td>\n",
       "      <td>61</td>\n",
       "      <td>352654</td>\n",
       "      <td>1845</td>\n",
       "    </tr>\n",
       "  </tbody>\n",
       "</table>\n",
       "</div>"
      ],
      "text/plain": [
       "        date group  transactions  buyers  revenue  visitors\n",
       "0 2019-08-01     A            24      20   148579       719\n",
       "1 2019-08-01     B            21      20   101217       713\n",
       "2 2019-08-02     A            43      37   240181      1338\n",
       "3 2019-08-02     B            46      43   268968      1294\n",
       "4 2019-08-03     A            67      61   352654      1845"
      ]
     },
     "execution_count": 20,
     "metadata": {},
     "output_type": "execute_result"
    }
   ],
   "source": [
    "cumulativeData = ordersAggregated.merge(visitorsAggregated, left_on=['date', 'group'], right_on=['date', 'group'])\n",
    "cumulativeData.columns = ['date', 'group', 'transactions', 'buyers', 'revenue', 'visitors']\n",
    "cumulativeData.head(5)"
   ]
  },
  {
   "cell_type": "markdown",
   "metadata": {},
   "source": [
    "Построим графики кумулятивной выручки по дням и группам A/B-тестирования"
   ]
  },
  {
   "cell_type": "code",
   "execution_count": 21,
   "metadata": {},
   "outputs": [
    {
     "data": {
      "image/png": "[encoded data removed]",
      "text/plain": [
       "<Figure size 1080x720 with 1 Axes>"
      ]
     },
     "metadata": {
      "needs_background": "light"
     },
     "output_type": "display_data"
    }
   ],
   "source": [
    "# датафрейм с кумулятивным количеством заказов и кумулятивной выручкой по дням в группе А\n",
    "cumulativeRevenueA = cumulativeData[cumulativeData['group']=='A'][['date','revenue', 'transactions']]\n",
    "\n",
    "# датафрейм с кумулятивным количеством заказов и кумулятивной выручкой по дням в группе B\n",
    "cumulativeRevenueB = cumulativeData[cumulativeData['group']=='B'][['date','revenue', 'transactions']]\n",
    "\n",
    "plt.rcParams[\"figure.figsize\"] = (15,10)\n",
    "# Строим график выручки группы А\n",
    "plt.plot(cumulativeRevenueA['date'], cumulativeRevenueA['revenue'], label='A')\n",
    "\n",
    "# Строим график выручки группы B\n",
    "plt.plot(cumulativeRevenueB['date'], cumulativeRevenueB['revenue'], label='B')\n",
    "plt.title('Кумулятивная выручка по дням и группам A/B-тестирования')\n",
    "plt.xlabel('Даты')\n",
    "plt.ylabel('Выручка')\n",
    "plt.legend() \n",
    "plt.show()"
   ]
  },
  {
   "cell_type": "markdown",
   "metadata": {},
   "source": [
    "##### Выводы:\n",
    "* кумулятивная выручка группы А растет равномерно; \n",
    "* график показателя группы В показывает резкий рост во второй половине исследования, до этого график был симметричен графику группы А;\n",
    "* в группе В вероятно присутствуют аномальные значения, влияющие на график, возможно, что в группе есть очень дорогие заказы;"
   ]
  },
  {
   "cell_type": "markdown",
   "metadata": {},
   "source": [
    "#### Кумулятивный средний чек по группам\n",
    "\n",
    "Построем график среднего чека по группам."
   ]
  },
  {
   "cell_type": "code",
   "execution_count": 22,
   "metadata": {},
   "outputs": [
    {
     "data": {
      "image/png": "[encoded data removed]",
      "text/plain": [
       "<Figure size 1080x720 with 1 Axes>"
      ]
     },
     "metadata": {
      "needs_background": "light"
     },
     "output_type": "display_data"
    }
   ],
   "source": [
    "plt.plot(cumulativeRevenueA['date'], cumulativeRevenueA['revenue']/cumulativeRevenueA['transactions'], label='A')\n",
    "plt.plot(cumulativeRevenueB['date'], cumulativeRevenueB['revenue']/cumulativeRevenueB['transactions'], label='B')\n",
    "plt.title('Кумулятивный средний чек по группам A/B-тестирования')\n",
    "plt.xlabel('Даты')\n",
    "plt.ylabel('Средний чек')\n",
    "plt.legend() \n",
    "plt.show()"
   ]
  },
  {
   "cell_type": "markdown",
   "metadata": {},
   "source": [
    "##### Выводы:\n",
    "\n",
    "* в группе В вероятно присутствуют аномальные значения, влияющие на данные;\n",
    "* в течении всего периода графики групп А и В были неравномерны."
   ]
  },
  {
   "cell_type": "markdown",
   "metadata": {},
   "source": [
    "#### Относительное изменение кумулятивного среднего чека группы B к группе A\n",
    "\n",
    "Для определения относительного изменения кумулятивного среднего чека собираем данные в одном датафрейме, cтроим отношение средних чеков"
   ]
  },
  {
   "cell_type": "code",
   "execution_count": 23,
   "metadata": {},
   "outputs": [
    {
     "data": {
      "image/png": "[encoded data removed]",
      "text/plain": [
       "<Figure size 1080x720 with 1 Axes>"
      ]
     },
     "metadata": {
      "needs_background": "light"
     },
     "output_type": "display_data"
    }
   ],
   "source": [
    "mergedCumulativeRevenue = cumulativeRevenueA.merge(cumulativeRevenueB, left_on='date', right_on='date', how='left', suffixes=['A', 'B'])\n",
    " \n",
    "plt.plot(mergedCumulativeRevenue['date'], (mergedCumulativeRevenue['revenueB']/mergedCumulativeRevenue['transactionsB'])/(mergedCumulativeRevenue['revenueA']/mergedCumulativeRevenue['transactionsA'])-1)\n",
    "\n",
    "plt.axhline(y=0, color='black', linestyle='--') \n",
    "plt.title('Относительное изменение кумулятивного среднего чека')\n",
    "plt.xlabel('Даты')\n",
    "plt.ylabel('%')\n",
    "plt.show()"
   ]
  },
  {
   "cell_type": "markdown",
   "metadata": {},
   "source": [
    "##### Выводы:\n",
    "\n",
    "* график характеризуется нестабильностью, что означет наличие крупных заказов и выбросов;\n",
    "* в даты с резкими изменениями вероятно происходили аномальные заказы;\n",
    "* кумулятивный средний чек группы В в основном был выше, чем у группы А."
   ]
  },
  {
   "cell_type": "markdown",
   "metadata": {},
   "source": [
    "#### Кумулятивная конверсия по группам"
   ]
  },
  {
   "cell_type": "markdown",
   "metadata": {},
   "source": [
    "Визуализируем данные по кумулятивной конверсии по группам."
   ]
  },
  {
   "cell_type": "code",
   "execution_count": 24,
   "metadata": {},
   "outputs": [
    {
     "data": {
      "image/png": "[encoded data removed]",
      "text/plain": [
       "<Figure size 1080x720 with 1 Axes>"
      ]
     },
     "metadata": {
      "needs_background": "light"
     },
     "output_type": "display_data"
    }
   ],
   "source": [
    "# считаем кумулятивную конверсию\n",
    "cumulativeData['conversion'] = cumulativeData['transactions']/cumulativeData['visitors']\n",
    "\n",
    "# отделяем данные по группе A\n",
    "cumulativeDataA = cumulativeData[cumulativeData['group']=='A']\n",
    "\n",
    "# отделяем данные по группе B\n",
    "cumulativeDataB = cumulativeData[cumulativeData['group']=='B']\n",
    "\n",
    "# строим графики\n",
    "plt.plot(cumulativeDataA['date'], cumulativeDataA['conversion'], label='A')\n",
    "plt.plot(cumulativeDataB['date'], cumulativeDataB['conversion'], label='B')\n",
    "plt.legend()\n",
    "plt.title('Кумулятивная конверсия по группам')\n",
    "plt.xlabel('Даты')\n",
    "plt.ylabel('%')\n",
    "# задаем масштаб осей\n",
    "plt.axis([\"2019-08-01\", '2019-09-01', 0, 0.04]) \n",
    "plt.show()"
   ]
  },
  {
   "cell_type": "markdown",
   "metadata": {},
   "source": [
    "##### Выводы:\n",
    "\n",
    "* конверсия группы В была выше большую часть периода наблюдения;\n",
    "* конверсия групп колебалась около одного значения после половины времени наблюдений и зафиксировались."
   ]
  },
  {
   "cell_type": "markdown",
   "metadata": {},
   "source": [
    "#### Относительное изменение кумулятивной конверсии группы B к группе A\n",
    "\n",
    "Построим график относительного изменения кумулятивной конверсии группы B к группе A"
   ]
  },
  {
   "cell_type": "code",
   "execution_count": 25,
   "metadata": {},
   "outputs": [
    {
     "data": {
      "image/png": "[encoded data removed]",
      "text/plain": [
       "<Figure size 1080x720 with 1 Axes>"
      ]
     },
     "metadata": {
      "needs_background": "light"
     },
     "output_type": "display_data"
    }
   ],
   "source": [
    "mergedCumulativeConversions = cumulativeDataA[['date','conversion']].merge(cumulativeDataB[['date','conversion']], left_on='date', right_on='date', how='left', suffixes=['A', 'B'])\n",
    "\n",
    "plt.plot(mergedCumulativeConversions['date'], mergedCumulativeConversions['conversionB']/mergedCumulativeConversions['conversionA']-1)\n",
    "\n",
    "plt.axhline(y=0, color='black', linestyle='--')\n",
    "plt.axhline(y=0.2, color='grey', linestyle='--')\n",
    "plt.title('Относительный прирост конверсии группы B относительно группы A')\n",
    "plt.xlabel('Даты')\n",
    "plt.ylabel('%')\n",
    "plt.axis([\"2019-08-01\", '2019-09-01', -0.6, 0.6]) \n",
    "plt.show()"
   ]
  },
  {
   "cell_type": "markdown",
   "metadata": {},
   "source": [
    "##### Выводы:\n",
    "\n",
    "* кумулятивная конверсия группы В была выше, чем у группы А на протяжении всего времени наблюдения;\n",
    "* график показывал рост до 20%, далее произошло снижение и во второй половине колебался около 10%.\n",
    "\n",
    "#### Рекомендации:\n",
    "По результатам анализа кумулятивных метрик пока нельзя делать однозначные выводы, так как на аномалии влияют на результаты. В связи с этим необходимо избавить данные от выбросов."
   ]
  },
  {
   "cell_type": "markdown",
   "metadata": {},
   "source": [
    "<a id='section_3_2'></a>"
   ]
  },
  {
   "cell_type": "markdown",
   "metadata": {},
   "source": [
    "### 3.2. Построение точечных графиков количества заказов по пользователям и стоимостей заказов, анализ выбросов."
   ]
  },
  {
   "cell_type": "markdown",
   "metadata": {},
   "source": [
    "Подсчитаем количество заказов по пользователям и графически отобразим результат точечным графиком."
   ]
  },
  {
   "cell_type": "code",
   "execution_count": 26,
   "metadata": {},
   "outputs": [
    {
     "data": {
      "text/html": [
       "<div>\n",
       "<style scoped>\n",
       "    .dataframe tbody tr th:only-of-type {\n",
       "        vertical-align: middle;\n",
       "    }\n",
       "\n",
       "    .dataframe tbody tr th {\n",
       "        vertical-align: top;\n",
       "    }\n",
       "\n",
       "    .dataframe thead th {\n",
       "        text-align: right;\n",
       "    }\n",
       "</style>\n",
       "<table border=\"1\" class=\"dataframe\">\n",
       "  <thead>\n",
       "    <tr style=\"text-align: right;\">\n",
       "      <th></th>\n",
       "      <th>transactionId</th>\n",
       "      <th>visitorId</th>\n",
       "      <th>date</th>\n",
       "      <th>revenue</th>\n",
       "      <th>group</th>\n",
       "    </tr>\n",
       "  </thead>\n",
       "  <tbody>\n",
       "    <tr>\n",
       "      <th>0</th>\n",
       "      <td>2065527789</td>\n",
       "      <td>1581167209</td>\n",
       "      <td>2019-08-01</td>\n",
       "      <td>1780</td>\n",
       "      <td>A</td>\n",
       "    </tr>\n",
       "    <tr>\n",
       "      <th>1</th>\n",
       "      <td>1295850747</td>\n",
       "      <td>2947100995</td>\n",
       "      <td>2019-08-01</td>\n",
       "      <td>29499</td>\n",
       "      <td>A</td>\n",
       "    </tr>\n",
       "    <tr>\n",
       "      <th>2</th>\n",
       "      <td>477940151</td>\n",
       "      <td>1422773200</td>\n",
       "      <td>2019-08-01</td>\n",
       "      <td>700</td>\n",
       "      <td>A</td>\n",
       "    </tr>\n",
       "    <tr>\n",
       "      <th>3</th>\n",
       "      <td>3679129301</td>\n",
       "      <td>8300375</td>\n",
       "      <td>2019-08-01</td>\n",
       "      <td>10510</td>\n",
       "      <td>B</td>\n",
       "    </tr>\n",
       "    <tr>\n",
       "      <th>4</th>\n",
       "      <td>3574407166</td>\n",
       "      <td>2328378067</td>\n",
       "      <td>2019-08-01</td>\n",
       "      <td>8999</td>\n",
       "      <td>B</td>\n",
       "    </tr>\n",
       "  </tbody>\n",
       "</table>\n",
       "</div>"
      ],
      "text/plain": [
       "   transactionId   visitorId       date  revenue group\n",
       "0     2065527789  1581167209 2019-08-01     1780     A\n",
       "1     1295850747  2947100995 2019-08-01    29499     A\n",
       "2      477940151  1422773200 2019-08-01      700     A\n",
       "3     3679129301     8300375 2019-08-01    10510     B\n",
       "4     3574407166  2328378067 2019-08-01     8999     B"
      ]
     },
     "execution_count": 26,
     "metadata": {},
     "output_type": "execute_result"
    }
   ],
   "source": [
    "orders.head()"
   ]
  },
  {
   "cell_type": "code",
   "execution_count": 27,
   "metadata": {},
   "outputs": [
    {
     "data": {
      "text/html": [
       "<div>\n",
       "<style scoped>\n",
       "    .dataframe tbody tr th:only-of-type {\n",
       "        vertical-align: middle;\n",
       "    }\n",
       "\n",
       "    .dataframe tbody tr th {\n",
       "        vertical-align: top;\n",
       "    }\n",
       "\n",
       "    .dataframe thead th {\n",
       "        text-align: right;\n",
       "    }\n",
       "</style>\n",
       "<table border=\"1\" class=\"dataframe\">\n",
       "  <thead>\n",
       "    <tr style=\"text-align: right;\">\n",
       "      <th></th>\n",
       "      <th>userId</th>\n",
       "      <th>orders</th>\n",
       "    </tr>\n",
       "  </thead>\n",
       "  <tbody>\n",
       "    <tr>\n",
       "      <th>1023</th>\n",
       "      <td>4256040402</td>\n",
       "      <td>11</td>\n",
       "    </tr>\n",
       "    <tr>\n",
       "      <th>591</th>\n",
       "      <td>2458001652</td>\n",
       "      <td>11</td>\n",
       "    </tr>\n",
       "    <tr>\n",
       "      <th>569</th>\n",
       "      <td>2378935119</td>\n",
       "      <td>9</td>\n",
       "    </tr>\n",
       "    <tr>\n",
       "      <th>487</th>\n",
       "      <td>2038680547</td>\n",
       "      <td>8</td>\n",
       "    </tr>\n",
       "    <tr>\n",
       "      <th>44</th>\n",
       "      <td>199603092</td>\n",
       "      <td>5</td>\n",
       "    </tr>\n",
       "    <tr>\n",
       "      <th>744</th>\n",
       "      <td>3062433592</td>\n",
       "      <td>5</td>\n",
       "    </tr>\n",
       "    <tr>\n",
       "      <th>55</th>\n",
       "      <td>237748145</td>\n",
       "      <td>5</td>\n",
       "    </tr>\n",
       "    <tr>\n",
       "      <th>917</th>\n",
       "      <td>3803269165</td>\n",
       "      <td>5</td>\n",
       "    </tr>\n",
       "    <tr>\n",
       "      <th>299</th>\n",
       "      <td>1230306981</td>\n",
       "      <td>5</td>\n",
       "    </tr>\n",
       "    <tr>\n",
       "      <th>897</th>\n",
       "      <td>3717692402</td>\n",
       "      <td>5</td>\n",
       "    </tr>\n",
       "  </tbody>\n",
       "</table>\n",
       "</div>"
      ],
      "text/plain": [
       "          userId  orders\n",
       "1023  4256040402      11\n",
       "591   2458001652      11\n",
       "569   2378935119       9\n",
       "487   2038680547       8\n",
       "44     199603092       5\n",
       "744   3062433592       5\n",
       "55     237748145       5\n",
       "917   3803269165       5\n",
       "299   1230306981       5\n",
       "897   3717692402       5"
      ]
     },
     "execution_count": 27,
     "metadata": {},
     "output_type": "execute_result"
    }
   ],
   "source": [
    "ordersByUsers = (\n",
    "    orders.drop(['group', 'revenue', 'date'], axis=1)\n",
    "    .groupby('visitorId', as_index=False)\n",
    "    .agg({'transactionId':pd.Series.nunique}))\n",
    "\n",
    "ordersByUsers.columns = ['userId', 'orders']\n",
    "\n",
    "ordersByUsers.sort_values(by='orders', ascending=False).head(10)"
   ]
  },
  {
   "cell_type": "markdown",
   "metadata": {},
   "source": [
    "Есть пользователи, которые совершили 5, 8, 9, 11 заказов. Такие показатели можно назвать аномальными. Построим гистограмму распределения количества заказов на одного пользователя."
   ]
  },
  {
   "cell_type": "code",
   "execution_count": 28,
   "metadata": {},
   "outputs": [
    {
     "data": {
      "image/png": "[encoded data removed]",
      "text/plain": [
       "<Figure size 1080x720 with 1 Axes>"
      ]
     },
     "metadata": {
      "needs_background": "light"
     },
     "output_type": "display_data"
    }
   ],
   "source": [
    "plt.hist(ordersByUsers['orders'])\n",
    "plt.title('Гистограмма распределения количества заказов на одного пользователя')\n",
    "plt.xlabel('Количество заказов')\n",
    "plt.ylabel('Частота')\n",
    "plt.show()"
   ]
  },
  {
   "cell_type": "markdown",
   "metadata": {},
   "source": [
    "Большинство пользователей совершают в среднем до 2 покупок. Есть показатели в 8 и 10 покупок. Построим точечную диаграмму числа заказов на одного пользователя."
   ]
  },
  {
   "cell_type": "code",
   "execution_count": 29,
   "metadata": {},
   "outputs": [
    {
     "data": {
      "image/png": "[encoded data removed]",
      "text/plain": [
       "<Figure size 1080x720 with 1 Axes>"
      ]
     },
     "metadata": {
      "needs_background": "light"
     },
     "output_type": "display_data"
    }
   ],
   "source": [
    "x_values = pd.Series(range(0, len(ordersByUsers)))\n",
    "plt.scatter(x_values, ordersByUsers['orders'])\n",
    "plt.title('Точечная диаграмма числа заказов на одного пользователя')\n",
    "plt.xlabel('Пользователь')\n",
    "plt.ylabel('Количество заказов')\n",
    "plt.show()"
   ]
  },
  {
   "cell_type": "markdown",
   "metadata": {},
   "source": [
    "Что и требовалось доказать, много пользователей с 1-2 заказами. Посчитаем выборочные персентили количества заказов на одного пользователя."
   ]
  },
  {
   "cell_type": "code",
   "execution_count": 30,
   "metadata": {},
   "outputs": [
    {
     "name": "stdout",
     "output_type": "stream",
     "text": [
      "[2. 4.]\n"
     ]
    }
   ],
   "source": [
    "print (np.percentile(ordersByUsers['orders'], [95,99]))"
   ]
  },
  {
   "cell_type": "markdown",
   "metadata": {},
   "source": [
    "Не более 5% пользователей оформляли более 2 заказов, не более 1% – 4 заказа. По результатам анализа логично отсеять аномальные показатели более 3 покупок на пользователя."
   ]
  },
  {
   "cell_type": "markdown",
   "metadata": {},
   "source": [
    "Построим гистограмму распределения и точечный график стоимостей заказов. "
   ]
  },
  {
   "cell_type": "code",
   "execution_count": 31,
   "metadata": {},
   "outputs": [
    {
     "data": {
      "image/png": "[encoded data removed]",
      "text/plain": [
       "<Figure size 1080x720 with 1 Axes>"
      ]
     },
     "metadata": {
      "needs_background": "light"
     },
     "output_type": "display_data"
    }
   ],
   "source": [
    "plt.hist(orders['revenue'])\n",
    "plt.title('Гистограмма распределения стоимости заказов')\n",
    "plt.xlabel('Стоимость заказа')\n",
    "plt.ylabel('Частота')\n",
    "plt.show()"
   ]
  },
  {
   "cell_type": "code",
   "execution_count": 32,
   "metadata": {
    "scrolled": false
   },
   "outputs": [
    {
     "data": {
      "image/png": "[encoded data removed]",
      "text/plain": [
       "<Figure size 1080x720 with 1 Axes>"
      ]
     },
     "metadata": {
      "needs_background": "light"
     },
     "output_type": "display_data"
    }
   ],
   "source": [
    "x1_values = pd.Series(range(0, len(orders['revenue'])))\n",
    "plt.scatter(x1_values, orders['revenue'])\n",
    "plt.title('Точечная диаграмма стоимости заказов')\n",
    "plt.xlabel('Пользователь')\n",
    "plt.ylabel('Стоимость заказа')\n",
    "plt.show()"
   ]
  },
  {
   "cell_type": "markdown",
   "metadata": {},
   "source": [
    "Изменим масштаб по оси Y для наглядности распределений заказов меньше 1 200 000 рублей."
   ]
  },
  {
   "cell_type": "code",
   "execution_count": 33,
   "metadata": {},
   "outputs": [
    {
     "data": {
      "image/png": "[encoded data removed]",
      "text/plain": [
       "<Figure size 1080x720 with 1 Axes>"
      ]
     },
     "metadata": {
      "needs_background": "light"
     },
     "output_type": "display_data"
    }
   ],
   "source": [
    "plt.scatter(x1_values, orders['revenue'])\n",
    "plt.title('Точечная диаграмма стоимости заказов')\n",
    "plt.xlabel('Пользователь')\n",
    "plt.ylabel('Стоимость заказа')\n",
    "plt.ylim(0, 300000)\n",
    "plt.show()"
   ]
  },
  {
   "cell_type": "markdown",
   "metadata": {},
   "source": [
    "Большинство заказов не превышают 50 000 рублей, но есть несколько дорогих заказов в 200 000 и более 1 200 000 рублей. Такие заказы могут повлиять на расчеты, поэтому посчитаем 95-й и 99-й персентили стоимостей заказа."
   ]
  },
  {
   "cell_type": "code",
   "execution_count": 34,
   "metadata": {},
   "outputs": [
    {
     "data": {
      "text/plain": [
       "array([28000. , 58233.2])"
      ]
     },
     "execution_count": 34,
     "metadata": {},
     "output_type": "execute_result"
    }
   ],
   "source": [
    "np.percentile(orders['revenue'], [95, 99])"
   ]
  },
  {
   "cell_type": "markdown",
   "metadata": {},
   "source": [
    "Не более 5% заказов стоят дороже 28 000 и не более 1% дороже 59 000. В связи с этим и точечным графиком для стоимостей заказов выберем границу в 30 000 рублей, выше которой значения будут считаться аномальными."
   ]
  },
  {
   "cell_type": "markdown",
   "metadata": {},
   "source": [
    "Произведем расчёт статистической значимости различий в конверсии между группами по «сырым» данным.\n",
    "\n",
    "__Сформулируем нулевую и альтернативные гипотезы.__\n",
    "\n",
    "Нулевая гипотеза: между группами А и В нет различий в конверсии.\n",
    "\n",
    "Альтернативная гипотеза, таким образом, гласит обратное – между группами А и В есть различия в конверсии."
   ]
  },
  {
   "cell_type": "code",
   "execution_count": 35,
   "metadata": {},
   "outputs": [
    {
     "name": "stdout",
     "output_type": "stream",
     "text": [
      "Статистическая значимость различий в конверсии равна: 0.0030\n",
      "Относительный прирост конверсии группы B: 0.145\n"
     ]
    }
   ],
   "source": [
    "ordersByUsersA = (\n",
    "    orders[orders['group'] == 'A']\n",
    "    .groupby('visitorId', as_index=False)\n",
    "    .agg({'transactionId':pd.Series.nunique})\n",
    "    )\n",
    "\n",
    "ordersByUsersA.columns = ['userId', 'orders']\n",
    "\n",
    "ordersByUsersB =(\n",
    "    orders[orders['group'] == 'B']\n",
    "    .groupby('visitorId', as_index=False)\n",
    "    .agg({'transactionId':pd.Series.nunique})\n",
    ")\n",
    "\n",
    "ordersByUsersB.columns = ['userId', 'orders']\n",
    "\n",
    "sampleA = pd.concat(\n",
    "    [\n",
    "        ordersByUsersA['orders'],\n",
    "        pd.Series(\n",
    "            0,\n",
    "            index=np.arange(\n",
    "                visitors[visitors['group']=='A']['visitors'].sum() - len(ordersByUsersA['orders'])\n",
    "            ),\n",
    "            name='orders',\n",
    "        ),\n",
    "    ],\n",
    "    axis=0,\n",
    ")\n",
    "\n",
    "sampleB = pd.concat(\n",
    "    [\n",
    "        ordersByUsersB['orders'],\n",
    "        pd.Series(\n",
    "            0,\n",
    "            index=np.arange(\n",
    "                visitors[visitors['group']=='A']['visitors'].sum() - len(ordersByUsersB['orders'])\n",
    "            ),\n",
    "            name='orders',\n",
    "        ),\n",
    "    ],\n",
    "    axis=0,\n",
    ")\n",
    "\n",
    "print(\"Статистическая значимость различий в конверсии равна: {0:.4f}\".format(stats.mannwhitneyu(sampleA, sampleB)[1]))\n",
    "\n",
    "print(\"Относительный прирост конверсии группы B: {0:.3f}\".format(sampleB.mean() / sampleA.mean() - 1))"
   ]
  },
  {
   "cell_type": "markdown",
   "metadata": {},
   "source": [
    "P-value меньше 0.05. Значит, мы можем отвергнуть нулевую гипотезу и считать, что в конверсии групп A и B есть различия. Также конверсия группы B выше конверсии группы A на 15%."
   ]
  },
  {
   "cell_type": "markdown",
   "metadata": {},
   "source": [
    "Произведем расчёт статистической значимости различий в среднем чеке заказа между группами по «сырым» данным.\n",
    "\n",
    "Сформулируем нулевую и альтернативные гипотезы.\n",
    "\n",
    "Нулевая гипотеза: между группами А и В нет различий по среднему чеку.\n",
    "\n",
    "Альтернативная гипотеза: между группами А и В есть различия по среднему чеку."
   ]
  },
  {
   "cell_type": "code",
   "execution_count": 36,
   "metadata": {},
   "outputs": [
    {
     "name": "stdout",
     "output_type": "stream",
     "text": [
      "Статистическая значимость различий в среднем чеке равна: 0.322\n",
      "Относительный прирост среднего чека группы B: 0.234\n"
     ]
    }
   ],
   "source": [
    "print('Статистическая значимость различий в среднем чеке равна: {0:.3f}'.format(stats.mannwhitneyu(orders[orders['group']=='A']['revenue'], orders[orders['group']=='B']['revenue'])[1]))\n",
    "print('Относительный прирост среднего чека группы B: {0:.3f}'.format(orders[orders['group']=='B']['revenue'].mean()/orders[orders['group']=='A']['revenue'].mean()-1)) "
   ]
  },
  {
   "cell_type": "markdown",
   "metadata": {},
   "source": [
    "P-value значительно больше 0.05. Значит, нулевая гипотеза не отвергнута, в среднем чеке различий нет. Впрочем, средний чек группы B значительно выше среднего чека группы A на 23%."
   ]
  },
  {
   "cell_type": "markdown",
   "metadata": {},
   "source": [
    "#### Выводы по \"сырым\" данным:\n",
    "* большинство пользователей совершают в среднем до 2 покупок включительно, определяет, что пользователи, которые заказывали более 3 товаров считаются аномальными;\n",
    "* большинство заказов не превышают 50 000 рублей, но есть несколько дорогих заказов в 200 000 и более 1 200 000 рублей;\n",
    "* не более 5% заказов стоят дороже 28 000 рублей и не более 1% дороже 59 000; \n",
    "* в связи с изученными фактами для стоимостей заказов была выбрана граница в 30 000 рублей, выше которой значения считаются аномальными;\n",
    "* P-value конверсии меньше 0.05, то есть в конверсии групп A и B есть различия;\n",
    "* конверсия группы B выше конверсии группы A на 15%;\n",
    "* P-value среднего чека значительно больше 0.05, нулевая гипотеза не отвергнута, в среднем чеке различий нет;\n",
    "* Средний чек группы B значительно выше среднего чека группы A на 23%.\n",
    "\n"
   ]
  },
  {
   "cell_type": "markdown",
   "metadata": {},
   "source": [
    "### Анализ \"очищенных\" от аномалий данных"
   ]
  },
  {
   "cell_type": "markdown",
   "metadata": {},
   "source": [
    "Произведем очистку данных от аномальных значений с установленными в предыдущем разделе параметрами."
   ]
  },
  {
   "cell_type": "code",
   "execution_count": 37,
   "metadata": {},
   "outputs": [
    {
     "name": "stdout",
     "output_type": "stream",
     "text": [
      "(61,)\n"
     ]
    },
    {
     "data": {
      "text/plain": [
       "468     148427295\n",
       "27      199603092\n",
       "1132    204675465\n",
       "20      237748145\n",
       "1101    358944393\n",
       "dtype: int64"
      ]
     },
     "execution_count": 37,
     "metadata": {},
     "output_type": "execute_result"
    }
   ],
   "source": [
    "usersWithManyOrders = pd.concat(\n",
    "    [\n",
    "        ordersByUsersA[ordersByUsersA['orders'] > 3]['userId'],\n",
    "        ordersByUsersB[ordersByUsersB['orders'] > 3]['userId'],\n",
    "    ],\n",
    "    axis=0,\n",
    ")\n",
    "usersWithExpensiveOrders = orders[orders['revenue'] > 30000]['visitorId']\n",
    "abnormalUsers = (\n",
    "    pd.concat([usersWithManyOrders, usersWithExpensiveOrders], axis=0)\n",
    "    .drop_duplicates()\n",
    "    .sort_values()\n",
    ")\n",
    "print(abnormalUsers.shape) \n",
    "abnormalUsers.head(5)"
   ]
  },
  {
   "cell_type": "markdown",
   "metadata": {},
   "source": [
    "Получилось 26 аномальных пользователей.\n",
    "\n",
    "Посчитаем статистическую значимость различий в конверсии между группами теста по очищенным данным. Для начала подготовим выборки количества заказов по пользователям по группам теста.\n",
    "\n",
    "Нулевая гипотеза: между группами А и В нет различий в конверсии.\n",
    "\n",
    "Альтернативная гипотеза, таким образом, гласит обратное – между группами А и В есть различия в конверсии."
   ]
  },
  {
   "cell_type": "code",
   "execution_count": 38,
   "metadata": {},
   "outputs": [],
   "source": [
    "sampleAFiltered = pd.concat(\n",
    "    [\n",
    "        ordersByUsersA[\n",
    "            np.logical_not(ordersByUsersA['userId'].isin(abnormalUsers))\n",
    "        ]['orders'],\n",
    "        pd.Series(\n",
    "            0,\n",
    "            index=np.arange(\n",
    "                visitors[visitors['group']=='A']['visitors'].sum() - len(ordersByUsersA['orders'])\n",
    "            ),\n",
    "            name='orders',\n",
    "        ),\n",
    "    ],\n",
    "    axis=0,\n",
    ")\n",
    "\n",
    "sampleBFiltered = pd.concat(\n",
    "    [\n",
    "        ordersByUsersB[\n",
    "            np.logical_not(ordersByUsersB['userId'].isin(abnormalUsers))\n",
    "        ]['orders'],\n",
    "        pd.Series(\n",
    "            0,\n",
    "            index=np.arange(\n",
    "                visitors[visitors['group']=='B']['visitors'].sum() - len(ordersByUsersB['orders'])\n",
    "            ),\n",
    "            name='orders',\n",
    "        ),\n",
    "    ],\n",
    "    axis=0,\n",
    ") "
   ]
  },
  {
   "cell_type": "code",
   "execution_count": 39,
   "metadata": {},
   "outputs": [
    {
     "name": "stdout",
     "output_type": "stream",
     "text": [
      "Статистическая значимость различий в конверсии в очищенных данных равна: 0.0059\n",
      "Относительный прирост конверсии группы B по очищенным данным: 0.161\n"
     ]
    }
   ],
   "source": [
    "print('Статистическая значимость различий в конверсии в очищенных данных равна: {0:.4f}'.format(stats.mannwhitneyu(sampleAFiltered, sampleBFiltered)[1]))\n",
    "print('Относительный прирост конверсии группы B по очищенным данным: {0:.3f}'.format(sampleBFiltered.mean()/sampleAFiltered.mean()-1)) "
   ]
  },
  {
   "cell_type": "markdown",
   "metadata": {},
   "source": [
    "P-value все также меньше 0.05. Значит, мы можем отвергнуть нулевую гипотезу и считать, что в конверсии групп A и B есть различия и в очищенных от аномалий данных. Также конверсия группы B осталась выше конверсии группы A на 16%."
   ]
  },
  {
   "cell_type": "markdown",
   "metadata": {},
   "source": [
    "График различия конверсии между группами "
   ]
  },
  {
   "cell_type": "code",
   "execution_count": 40,
   "metadata": {},
   "outputs": [],
   "source": [
    "orders_clear = orders[np.logical_not(orders['visitorId'].isin(abnormalUsers))]"
   ]
  },
  {
   "cell_type": "code",
   "execution_count": 41,
   "metadata": {},
   "outputs": [],
   "source": [
    "datesGroups_clear = orders_clear[['date','group']].drop_duplicates() \n",
    "\n",
    "ordersAggregated_clear = datesGroups_clear.apply(\n",
    "    lambda x: orders_clear[\n",
    "        np.logical_and(\n",
    "            orders_clear['date'] <= x['date'], orders_clear['group'] == x['group']\n",
    "        )\n",
    "    ].agg(\n",
    "        {\n",
    "            'date': 'max',\n",
    "            'group': 'max',\n",
    "            'transactionId': pd.Series.nunique,\n",
    "            'visitorId': pd.Series.nunique,\n",
    "            'revenue': 'sum',\n",
    "        }\n",
    "    ),\n",
    "    axis=1,\n",
    ").sort_values(by=['date', 'group'])\n",
    "\n",
    "# получаем агрегированные кумулятивные по дням данные о посетителях интернет-магазина \n",
    "visitorsAggregated_clear = datesGroups_clear.apply(\n",
    "    lambda x: visitors[\n",
    "        np.logical_and(\n",
    "            visitors['date'] <= x['date'], visitors['group'] == x['group']\n",
    "        )\n",
    "    ].agg(\n",
    "        {\n",
    "            'date': 'max', \n",
    "            'group': 'max', \n",
    "            'visitors': 'sum'\n",
    "        }\n",
    "    ),\n",
    "    axis=1,\n",
    ").sort_values(by=['date', 'group'])\n"
   ]
  },
  {
   "cell_type": "code",
   "execution_count": 42,
   "metadata": {},
   "outputs": [],
   "source": [
    "cumulativeData_clear = ordersAggregated_clear.merge(visitorsAggregated_clear, left_on=['date', 'group'], right_on=['date', 'group'])\n",
    "cumulativeData_clear.columns = ['date', 'group', 'transactions', 'buyers', 'revenue', 'visitors']"
   ]
  },
  {
   "cell_type": "code",
   "execution_count": 43,
   "metadata": {
    "scrolled": false
   },
   "outputs": [
    {
     "data": {
      "image/png": "[encoded data removed]",
      "text/plain": [
       "<Figure size 1080x720 with 1 Axes>"
      ]
     },
     "metadata": {
      "needs_background": "light"
     },
     "output_type": "display_data"
    }
   ],
   "source": [
    "# считаем кумулятивную конверсию\n",
    "cumulativeData_clear['conversion'] = cumulativeData_clear['transactions']/cumulativeData_clear['visitors']\n",
    "\n",
    "# отделяем данные по группе A\n",
    "cumulativeDataA_clear = cumulativeData_clear[cumulativeData_clear['group']=='A']\n",
    "\n",
    "# отделяем данные по группе B\n",
    "cumulativeDataB_clear = cumulativeData_clear[cumulativeData_clear['group']=='B']\n",
    "\n",
    "mergedCumulativeConversions_clear = cumulativeDataA_clear[['date','conversion']].merge(cumulativeDataB_clear[['date','conversion']], left_on='date', right_on='date', how='left', suffixes=['A', 'B'])\n",
    "\n",
    "plt.plot(mergedCumulativeConversions_clear['date'], mergedCumulativeConversions_clear['conversionB']/mergedCumulativeConversions_clear['conversionA']-1)\n",
    "\n",
    "plt.axhline(y=0, color='black', linestyle='--')\n",
    "plt.axhline(y=0.15, color='grey', linestyle='--')\n",
    "plt.title('Относительный прирост конверсии группы B относительно группы A по очищенным данным')\n",
    "plt.xlabel('Даты')\n",
    "plt.ylabel('%')\n",
    "plt.axis([\"2019-08-01\", '2019-09-01', -1, 1]) \n",
    "plt.show()"
   ]
  },
  {
   "cell_type": "markdown",
   "metadata": {},
   "source": [
    "График различия конверсии между группами сообщает, что результаты группы B лучше группы A: имеют тенденцию к росту, либо зафиксировались около среднего значения в 0.15."
   ]
  },
  {
   "cell_type": "markdown",
   "metadata": {},
   "source": [
    "Посчитаем статистическую значимость различий в среднем чеке между группами теста по очищенным данным.\n",
    "\n",
    "Нулевая гипотеза: между группами А и В нет различий по среднему чеку.\n",
    "\n",
    "Альтернативная гипотеза: между группами А и В есть различия по среднему чеку."
   ]
  },
  {
   "cell_type": "code",
   "execution_count": 44,
   "metadata": {},
   "outputs": [
    {
     "name": "stdout",
     "output_type": "stream",
     "text": [
      "Статистическая значимость различий в среднем чеке по очищенным данным равна: 0.215\n",
      "Относительный прирост среднего чека группы B по очищенным данным: -0.062\n"
     ]
    }
   ],
   "source": [
    "print(\n",
    "    'Статистическая значимость различий в среднем чеке по очищенным данным равна: {0:.3f}'.format(\n",
    "        stats.mannwhitneyu(\n",
    "            orders[\n",
    "                np.logical_and(\n",
    "                    orders['group'] == 'A',\n",
    "                    np.logical_not(orders['visitorId'].isin(abnormalUsers)),\n",
    "                )\n",
    "            ]['revenue'],\n",
    "            orders[\n",
    "                np.logical_and(\n",
    "                    orders['group'] == 'B',\n",
    "                    np.logical_not(orders['visitorId'].isin(abnormalUsers)),\n",
    "                )\n",
    "            ]['revenue'],\n",
    "        )[1]\n",
    "    )\n",
    ")\n",
    "\n",
    "print(\n",
    "    \"Относительный прирост среднего чека группы B по очищенным данным: {0:.3f}\".format(\n",
    "        orders[\n",
    "            np.logical_and(\n",
    "                orders['group'] == 'B',\n",
    "                np.logical_not(orders['visitorId'].isin(abnormalUsers)),\n",
    "            )\n",
    "        ]['revenue'].mean()\n",
    "        / orders[\n",
    "            np.logical_and(\n",
    "                orders['group'] == 'A',\n",
    "                np.logical_not(orders['visitorId'].isin(abnormalUsers)),\n",
    "            )\n",
    "        ]['revenue'].mean()\n",
    "        - 1\n",
    "    )\n",
    ") "
   ]
  },
  {
   "cell_type": "markdown",
   "metadata": {},
   "source": [
    "P-value увеличился, что означает, что мы не можем отвергнуть нулевую гипотезу. Разница между сегментами сократилась с 23% до -6%, то есть средний чек группы B стал ниже среднего чека группы B."
   ]
  },
  {
   "cell_type": "markdown",
   "metadata": {},
   "source": [
    "График различия среднего чека "
   ]
  },
  {
   "cell_type": "code",
   "execution_count": 45,
   "metadata": {
    "scrolled": false
   },
   "outputs": [
    {
     "data": {
      "image/png": "[encoded data removed]",
      "text/plain": [
       "<Figure size 1080x720 with 1 Axes>"
      ]
     },
     "metadata": {
      "needs_background": "light"
     },
     "output_type": "display_data"
    }
   ],
   "source": [
    "# датафрейм с кумулятивным количеством заказов и кумулятивной выручкой по дням в группе А\n",
    "cumulativeRevenueA_clear = cumulativeData_clear[cumulativeData_clear['group']=='A'][['date','revenue', 'transactions']]\n",
    "\n",
    "# датафрейм с кумулятивным количеством заказов и кумулятивной выручкой по дням в группе B\n",
    "cumulativeRevenueB_clear = cumulativeData_clear[cumulativeData_clear['group']=='B'][['date','revenue', 'transactions']]\n",
    "\n",
    "mergedCumulativeRevenue_clear = cumulativeRevenueA_clear.merge(cumulativeRevenueB_clear, left_on='date', right_on='date', how='left', suffixes=['A', 'B'])\n",
    "\n",
    "# cтроим отношение средних чеков\n",
    "plt.plot(mergedCumulativeRevenue_clear['date'], (mergedCumulativeRevenue_clear['revenueB']/mergedCumulativeRevenue_clear['transactionsB'])/(mergedCumulativeRevenue_clear['revenueA']/mergedCumulativeRevenue_clear['transactionsA'])-1)\n",
    "\n",
    "# добавляем ось X\n",
    "plt.axhline(y=0, color='black', linestyle='--') \n",
    "plt.title('Относительное изменение кумулятивного среднего чека группы B к среднему чеку группы A по очищенным данным')\n",
    "plt.xlabel('Даты')\n",
    "plt.ylabel('%')\n",
    "plt.axis([\"2019-08-01\", '2019-09-01', -0.5, 0.5]) \n",
    "plt.show()"
   ]
  },
  {
   "cell_type": "markdown",
   "metadata": {},
   "source": [
    "График различия среднего чека по чистым данным колеблется: нельзя сказать, что средний чек группы B стабильно выше среднего чека группы A. Сделать из этого графика определённые выводы нельзя."
   ]
  },
  {
   "cell_type": "markdown",
   "metadata": {},
   "source": [
    "#### Выводы по \"чистым\" данным:\n",
    "* P-value конверсии после \"чистки\" данных осталось меньше 0.05, то есть в конверсии групп A и B есть различия по очищенным данным;\n",
    "* конверсия группы B выше конверсии группы A на 15%, после \"чистки\" этот показатель не изменился;\n",
    "* P-value среднего чека также значительно больше 0.05, нулевая гипотеза не отвергнута, в среднем чеке различий нет по \"чистым\" данным;\n",
    "* Средний чек группы B стал ниже среднего чека группы A после \"чистки\" данных на 6%.\n",
    "\n"
   ]
  },
  {
   "cell_type": "markdown",
   "metadata": {},
   "source": [
    "<a id='section_3_3'></a>"
   ]
  },
  {
   "cell_type": "markdown",
   "metadata": {},
   "source": [
    "### 3.3. Результаты теста."
   ]
  },
  {
   "cell_type": "markdown",
   "metadata": {},
   "source": [
    "####   Исходя из результатов теста следует признать его неуспешным – нельзя утвержать, что группа B явно лучше группы A: \n",
    "* наблюдается статистически значимое различие по конверсии, как по \"сырым\", так и по \"очищенным\" данным, группа B статистически лучше группы А по конверсии;\n",
    "* нет статистически значимого различия по среднему чеку между группами ни по «сырым», ни по данным после фильтрации аномалий;\n",
    "* относительный прирост среднего чека группы B ниже чем у группы A и составил -2%;\n",
    "* несмотря на то, что в период наблюдения конверсия группы B была выше конверсии группы A, динамика относительного изменения среднего чека группы B к группе А была нестабильной.\n",
    "\n",
    "#### Таким образом, следует остановить тест, зафиксировать отсутствие различий между группами."
   ]
  },
  {
   "cell_type": "markdown",
   "metadata": {},
   "source": [
    "#### Общий вывод\n",
    "\n",
    "* в рамках работы по была изучена общая информация по всем данным исследования; \n",
    "* исправлены типы данных для дат в таблицах `orders` и `visitors`;\n",
    "* исправлена проблема с нахождением 58 пользователей в двух группах;\n",
    "* произведена приоритезация гипотез по фреймворакм `ICE` и `RICE`;\n",
    "* согласно расчётам RICE гипотеза №7 является приоритетной, при этом при расчёте ICE данная гипотеза была 3-й по приоритетности;\n",
    "* значения ICE высокие у гипотез с высокими оценками влияния и уверенности, при этом у первых двух гипотез имеют низкую оценку охвата, которая не учитавалась при расчете этого фреймворка;\n",
    "* наиболее приоритетные (топ-3) гипотезы по ICE имели среднюю оценку стоимости теста гипотезы;\n",
    "* одна из наиболее приоритетных (топ-3) гипотез по RICE имела низкую оценку стоимости теста гипотезы, остальные имели среднюю.\n",
    "* кумулятивная выручка группы А растет равномерно;\n",
    "* график показателя группы В показывает резкий рост во второй половине исследования, до этого график был симметричен графику группы А;\n",
    "* в группе В присутствали аномальные значения, влияющие на график;\n",
    "* в течении всего периода графики групп А и В по среднему чеку были неравномерны;\n",
    "* кумулятивный средний чек группы В в основном был выше, чем у группы А;\n",
    "* конверсия группы В была выше большую часть периода наблюдения;\n",
    "* кумулятивная конверсия группы В была выше, чем у группы А на протяжении всего времени наблюдения;\n",
    "* большинство пользователей совершают в среднем до 2 покупок включительно, определяет, что пользователи, которые заказывали более 3 товаров считаются аномальными;\n",
    "* большинство заказов не превышают 50 000 рублей, но есть несколько дорогих заказов в 200 000 и более 1 200 000 рублей;\n",
    "* не более 5% заказов стоят дороже 28 000 рублей и не более 1% дороже 59 000; \n",
    "* в связи с изученными фактами для стоимостей заказов была выбрана граница в 30 000 рублей, выше которой значения считаются аномальными;\n",
    "* P-value конверсии меньше 0.05, то есть в конверсии групп A и B есть различия;\n",
    "* конверсия группы B выше конверсии группы A на 15%;\n",
    "* P-value среднего чека значительно больше 0.05, нулевая гипотеза не отвергнута, в среднем чеке различий нет;\n",
    "* средний чек группы B значительно выше среднего чека группы A на 23%;\n",
    "* P-value конверсии после \"чистки\" данных осталось меньше 0.05, то есть в конверсии групп A и B есть различия по очищенным данным;\n",
    "* конверсия группы B выше конверсии группы A на 15%, после \"чистки\" этот показатель не изменился;\n",
    "* P-value среднего чека также значительно больше 0.05, нулевая гипотеза не отвергнута, в среднем чеке различий нет по \"чистым\" данным;\n",
    "* средний чек группы B стал ниже среднего чека группы A после \"чистки\" данных на 6%.\n",
    "* удаление выбросов на проверку статистических гипотез не повлияло;\n",
    "* результаты теста позволяют признать его неуспешным, так как группа В не лучше группы А;\n",
    "* таким образом, следует остановить тест, зафиксировать отсутствие различий между группами."
   ]
  }
 ],
 "metadata": {
  "kernelspec": {
   "display_name": "Python 3",
   "language": "python",
   "name": "python3"
  },
  "language_info": {
   "codemirror_mode": {
    "name": "ipython",
    "version": 3
   },
   "file_extension": ".py",
   "mimetype": "text/x-python",
   "name": "python",
   "nbconvert_exporter": "python",
   "pygments_lexer": "ipython3",
   "version": "3.8.5"
  },
  "toc": {
   "base_numbering": 1,
   "nav_menu": {},
   "number_sections": false,
   "sideBar": true,
   "skip_h1_title": true,
   "title_cell": "Table of Contents",
   "title_sidebar": "Contents",
   "toc_cell": false,
   "toc_position": {
    "height": "calc(100% - 180px)",
    "left": "10px",
    "top": "150px",
    "width": "494.396px"
   },
   "toc_section_display": true,
   "toc_window_display": false
  }
 },
 "nbformat": 4,
 "nbformat_minor": 2
}
